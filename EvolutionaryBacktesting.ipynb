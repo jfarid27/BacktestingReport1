{
 "cells": [
  {
   "cell_type": "markdown",
   "metadata": {},
   "source": [
    "# Genetic Evolution Backtesting\n",
    "\n",
    "## Introduction\n",
    "\n",
    "The code below simulates a backtesting model using a version genetic evolution.  It starts with a panel of signals generated using vectorbt, and creates a weighted average of them across multiple individual portfolios. Then the simulation randomly adjusts the weights, and accepts the new portfolio if it is better than it's parent. There is a generational epoch setting, where at the step, all portfolios are evaluated and the top portfolio is cloned across the family. Then the simulation resumes."
   ]
  },
  {
   "cell_type": "code",
   "execution_count": 15,
   "metadata": {},
   "outputs": [],
   "source": [
    "from Backtest.models.EvolutionaryModel import EvolutionaryPortfolio, EvolutionaryPortfolioFamily, generate_weights, blend_signals\n",
    "import vectorbt as vbt\n",
    "import numpy as np\n",
    "import pandas as pd\n",
    "import plotly.express as px\n",
    "import plotly.graph_objects as go\n",
    "from Backtest.models.VBTYFData import VBTYFData\n",
    "\n",
    "\n",
    "from pathlib import Path\n",
    "\n",
    "current_dir = Path.cwd()\n",
    "\n",
    "np.random.seed(1337)\n",
    "data_file = current_dir / \"data\""
   ]
  },
  {
   "cell_type": "markdown",
   "metadata": {},
   "source": [
    "## Data\n",
    "\n",
    "Below the code just takes 1 backtest of BTC. One could scale this to take an average Sharpe Ratio across multiple time-periods in the evolution."
   ]
  },
  {
   "cell_type": "code",
   "execution_count": 2,
   "metadata": {},
   "outputs": [],
   "source": [
    "# BTC\n",
    "btc_store = VBTYFData(data_file / \"btc_price.csv\")\n",
    "btc_price = btc_store.load(\"BTC-USD\", start=\"2019-01\", end=\"2024-07\")"
   ]
  },
  {
   "cell_type": "code",
   "execution_count": 3,
   "metadata": {},
   "outputs": [
    {
     "data": {
      "text/plain": [
       "Date\n",
       "2019-01-20 00:00:00+00:00     3601.013672\n",
       "2019-01-21 00:00:00+00:00     3576.032471\n",
       "2019-01-22 00:00:00+00:00     3604.577148\n",
       "2019-01-23 00:00:00+00:00     3585.123047\n",
       "2019-01-24 00:00:00+00:00     3600.865479\n",
       "                                 ...     \n",
       "2024-07-16 00:00:00+00:00    65097.148438\n",
       "2024-07-17 00:00:00+00:00    64118.792969\n",
       "2024-07-18 00:00:00+00:00    63974.066406\n",
       "2024-07-19 00:00:00+00:00    66710.156250\n",
       "2024-07-20 00:00:00+00:00    67163.648438\n",
       "Name: Close, Length: 2009, dtype: float64"
      ]
     },
     "execution_count": 3,
     "metadata": {},
     "output_type": "execute_result"
    }
   ],
   "source": [
    "btc_price"
   ]
  },
  {
   "cell_type": "markdown",
   "metadata": {},
   "source": [
    "## Signals Panel"
   ]
  },
  {
   "cell_type": "markdown",
   "metadata": {},
   "source": [
    "Below generates 4 signals and integrates them into a weighted average, with starting weights all equal. The code can accept a set of previously defined weights to possibly start on an old iteration. As long as the signals are arrays of boolean values, it can be added into the EvolutionaryPortfolioModel. Ideally one could add more signals and generate a larger signals panel."
   ]
  },
  {
   "cell_type": "code",
   "execution_count": 4,
   "metadata": {},
   "outputs": [
    {
     "name": "stdout",
     "output_type": "stream",
     "text": [
      "[0.25 0.25 0.25 0.25]\n"
     ]
    }
   ],
   "source": [
    "ma_1_fast = vbt.MA.run(btc_price, 25, short_name='fast_25')\n",
    "ma_1_slow = vbt.MA.run(btc_price, 100, short_name='slow_100')\n",
    "ma_1_entries = ma_1_fast.ma_crossed_above(ma_1_slow)\n",
    "ma_1_exits = ma_1_fast.ma_crossed_below(ma_1_slow)\n",
    "\n",
    "ma_2_fast = vbt.MA.run(btc_price, 25, short_name='fast_30')\n",
    "ma_2_slow = vbt.MA.run(btc_price, 70, short_name='slow_70')\n",
    "ma_2_entries = ma_2_fast.ma_crossed_above(ma_2_slow)\n",
    "ma_2_exits = ma_2_fast.ma_crossed_below(ma_2_slow)\n",
    "\n",
    "rsi_14 = vbt.RSI.run(btc_price, window=14)\n",
    "rsi_14_entries = rsi_14.rsi_crossed_below(30)\n",
    "rsi_14_exits = rsi_14.rsi_crossed_above(70)\n",
    "\n",
    "rsi_30 = vbt.RSI.run(btc_price, window=30)\n",
    "rsi_30_entries = rsi_30.rsi_crossed_below(30)\n",
    "rsi_30_exits = rsi_30.rsi_crossed_above(70)\n",
    "\n",
    "entries = [ma_1_entries, ma_2_entries, rsi_14_entries, rsi_30_entries]\n",
    "exits = [ma_1_exits, ma_2_exits, rsi_14_exits, rsi_30_exits]\n",
    "\n",
    "starting_weights = generate_weights(weight_length=len(entries))\n",
    "\n",
    "print(starting_weights)"
   ]
  },
  {
   "cell_type": "code",
   "execution_count": 5,
   "metadata": {},
   "outputs": [],
   "source": [
    "family = EvolutionaryPortfolioFamily(btc_price, starting_weights, entries, exits, entry_threshold=0.15, exit_threshold=0.15, num_portfolios=5)"
   ]
  },
  {
   "cell_type": "code",
   "execution_count": 6,
   "metadata": {},
   "outputs": [],
   "source": [
    "log_file = data_file / \"results_log.csv\"\n",
    "\n",
    "family.run_simulation(10000, 100, temperature=1, results_log=log_file)"
   ]
  },
  {
   "cell_type": "markdown",
   "metadata": {},
   "source": [
    "## Results\n",
    "\n",
    "After running for 10000 steps, below is the plots. It appears with these settings, a Sharpe Ratio of 1.47 can be achieved with a blend of RSI and Moving Averages. Around the 5000 mark, the Sharpe Ratio was achieved.\n",
    "\n",
    "One can see as the simulation ran, the model rapidly improved on Sharpe Ratio performance once the MA 25/100's weight began to dominate. Further improvements on the model can likely be achieved with more signals in the blend."
   ]
  },
  {
   "cell_type": "code",
   "execution_count": 7,
   "metadata": {},
   "outputs": [],
   "source": [
    "simulation_results = pd.read_csv(log_file)"
   ]
  },
  {
   "cell_type": "code",
   "execution_count": 11,
   "metadata": {},
   "outputs": [
    {
     "data": {
      "application/vnd.plotly.v1+json": {
       "config": {
        "plotlyServerURL": "https://plot.ly"
       },
       "data": [
        {
         "hovertemplate": "100=%{x}<br>0.4303580471505537=%{y}<extra></extra>",
         "legendgroup": "",
         "line": {
          "color": "#636efa",
          "dash": "solid"
         },
         "marker": {
          "symbol": "circle"
         },
         "mode": "lines",
         "name": "",
         "orientation": "v",
         "showlegend": false,
         "type": "scatter",
         "x": [
          200,
          300,
          400,
          500,
          600,
          700,
          800,
          900,
          1000,
          1100,
          1200,
          1300,
          1400,
          1500,
          1600,
          1700,
          1800,
          1900,
          2000,
          2100,
          2200,
          2300,
          2400,
          2500,
          2600,
          2700,
          2800,
          2900,
          3000,
          3100,
          3200,
          3300,
          3400,
          3500,
          3600,
          3700,
          3800,
          3900,
          4000,
          4100,
          4200,
          4300,
          4400,
          4500,
          4600,
          4700,
          4800,
          4900,
          5000,
          5100,
          5200,
          5300,
          5400,
          5500,
          5600,
          5700,
          5800,
          5900,
          6000,
          6100,
          6200,
          6300,
          6400,
          6500,
          6600,
          6700,
          6800,
          6900,
          7000,
          7100,
          7200,
          7300,
          7400,
          7500,
          7600,
          7700,
          7800,
          7900,
          8000,
          8100,
          8200,
          8300,
          8400,
          8500,
          8600,
          8700,
          8800,
          8900,
          9000,
          9100,
          9200,
          9300,
          9400,
          9500,
          9600,
          9700,
          9800,
          9900,
          10000
         ],
         "xaxis": "x",
         "y": [
          0.5263747407643073,
          0.5263747407643073,
          0.5263747407643073,
          0.5263747407643073,
          0.5263747407643073,
          0.5263747407643073,
          0.5263747407643073,
          0.5263747407643073,
          0.5263747407643073,
          0.5263747407643073,
          0.5263747407643073,
          0.5263747407643073,
          0.5263747407643073,
          0.5263747407643073,
          0.5263747407643073,
          0.5263747407643073,
          0.5263747407643073,
          0.5263747407643073,
          0.5263747407643073,
          0.5263747407643073,
          0.5263747407643073,
          0.5263747407643073,
          0.5263747407643073,
          0.5263747407643073,
          0.5263747407643073,
          0.5263747407643073,
          0.5263747407643073,
          0.5263747407643073,
          0.5263747407643073,
          0.5263747407643073,
          0.5263747407643073,
          0.5263747407643073,
          0.5263747407643073,
          0.5263747407643073,
          0.5263747407643073,
          0.5263747407643073,
          0.5263747407643073,
          0.5263747407643073,
          0.5263747407643073,
          0.5263747407643073,
          0.5263747407643073,
          0.5263747407643073,
          0.5263747407643073,
          0.5263747407643073,
          0.5263747407643073,
          0.5263747407643073,
          0.5263747407643073,
          0.5263747407643073,
          0.5263747407643073,
          0.5263747407643073,
          0.5263747407643073,
          0.5263747407643073,
          1.473993742821827,
          1.473993742821827,
          1.473993742821827,
          1.473993742821827,
          1.473993742821827,
          1.473993742821827,
          1.473993742821827,
          1.473993742821827,
          1.473993742821827,
          1.473993742821827,
          1.473993742821827,
          1.473993742821827,
          1.473993742821827,
          1.473993742821827,
          1.473993742821827,
          1.473993742821827,
          1.473993742821827,
          1.473993742821827,
          1.473993742821827,
          1.473993742821827,
          1.473993742821827,
          1.473993742821827,
          1.473993742821827,
          1.473993742821827,
          1.473993742821827,
          1.473993742821827,
          1.473993742821827,
          1.473993742821827,
          1.473993742821827,
          1.473993742821827,
          1.473993742821827,
          1.473993742821827,
          1.473993742821827,
          1.473993742821827,
          1.473993742821827,
          1.473993742821827,
          1.473993742821827,
          1.473993742821827,
          1.473993742821827,
          1.473993742821827,
          1.473993742821827,
          1.473993742821827,
          1.473993742821827,
          1.473993742821827,
          1.473993742821827,
          1.473993742821827,
          1.473993742821827
         ],
         "yaxis": "y"
        }
       ],
       "layout": {
        "legend": {
         "tracegroupgap": 0
        },
        "template": {
         "data": {
          "bar": [
           {
            "error_x": {
             "color": "#2a3f5f"
            },
            "error_y": {
             "color": "#2a3f5f"
            },
            "marker": {
             "line": {
              "color": "#E5ECF6",
              "width": 0.5
             },
             "pattern": {
              "fillmode": "overlay",
              "size": 10,
              "solidity": 0.2
             }
            },
            "type": "bar"
           }
          ],
          "barpolar": [
           {
            "marker": {
             "line": {
              "color": "#E5ECF6",
              "width": 0.5
             },
             "pattern": {
              "fillmode": "overlay",
              "size": 10,
              "solidity": 0.2
             }
            },
            "type": "barpolar"
           }
          ],
          "carpet": [
           {
            "aaxis": {
             "endlinecolor": "#2a3f5f",
             "gridcolor": "white",
             "linecolor": "white",
             "minorgridcolor": "white",
             "startlinecolor": "#2a3f5f"
            },
            "baxis": {
             "endlinecolor": "#2a3f5f",
             "gridcolor": "white",
             "linecolor": "white",
             "minorgridcolor": "white",
             "startlinecolor": "#2a3f5f"
            },
            "type": "carpet"
           }
          ],
          "choropleth": [
           {
            "colorbar": {
             "outlinewidth": 0,
             "ticks": ""
            },
            "type": "choropleth"
           }
          ],
          "contour": [
           {
            "colorbar": {
             "outlinewidth": 0,
             "ticks": ""
            },
            "colorscale": [
             [
              0,
              "#0d0887"
             ],
             [
              0.1111111111111111,
              "#46039f"
             ],
             [
              0.2222222222222222,
              "#7201a8"
             ],
             [
              0.3333333333333333,
              "#9c179e"
             ],
             [
              0.4444444444444444,
              "#bd3786"
             ],
             [
              0.5555555555555556,
              "#d8576b"
             ],
             [
              0.6666666666666666,
              "#ed7953"
             ],
             [
              0.7777777777777778,
              "#fb9f3a"
             ],
             [
              0.8888888888888888,
              "#fdca26"
             ],
             [
              1,
              "#f0f921"
             ]
            ],
            "type": "contour"
           }
          ],
          "contourcarpet": [
           {
            "colorbar": {
             "outlinewidth": 0,
             "ticks": ""
            },
            "type": "contourcarpet"
           }
          ],
          "heatmap": [
           {
            "colorbar": {
             "outlinewidth": 0,
             "ticks": ""
            },
            "colorscale": [
             [
              0,
              "#0d0887"
             ],
             [
              0.1111111111111111,
              "#46039f"
             ],
             [
              0.2222222222222222,
              "#7201a8"
             ],
             [
              0.3333333333333333,
              "#9c179e"
             ],
             [
              0.4444444444444444,
              "#bd3786"
             ],
             [
              0.5555555555555556,
              "#d8576b"
             ],
             [
              0.6666666666666666,
              "#ed7953"
             ],
             [
              0.7777777777777778,
              "#fb9f3a"
             ],
             [
              0.8888888888888888,
              "#fdca26"
             ],
             [
              1,
              "#f0f921"
             ]
            ],
            "type": "heatmap"
           }
          ],
          "heatmapgl": [
           {
            "colorbar": {
             "outlinewidth": 0,
             "ticks": ""
            },
            "colorscale": [
             [
              0,
              "#0d0887"
             ],
             [
              0.1111111111111111,
              "#46039f"
             ],
             [
              0.2222222222222222,
              "#7201a8"
             ],
             [
              0.3333333333333333,
              "#9c179e"
             ],
             [
              0.4444444444444444,
              "#bd3786"
             ],
             [
              0.5555555555555556,
              "#d8576b"
             ],
             [
              0.6666666666666666,
              "#ed7953"
             ],
             [
              0.7777777777777778,
              "#fb9f3a"
             ],
             [
              0.8888888888888888,
              "#fdca26"
             ],
             [
              1,
              "#f0f921"
             ]
            ],
            "type": "heatmapgl"
           }
          ],
          "histogram": [
           {
            "marker": {
             "pattern": {
              "fillmode": "overlay",
              "size": 10,
              "solidity": 0.2
             }
            },
            "type": "histogram"
           }
          ],
          "histogram2d": [
           {
            "colorbar": {
             "outlinewidth": 0,
             "ticks": ""
            },
            "colorscale": [
             [
              0,
              "#0d0887"
             ],
             [
              0.1111111111111111,
              "#46039f"
             ],
             [
              0.2222222222222222,
              "#7201a8"
             ],
             [
              0.3333333333333333,
              "#9c179e"
             ],
             [
              0.4444444444444444,
              "#bd3786"
             ],
             [
              0.5555555555555556,
              "#d8576b"
             ],
             [
              0.6666666666666666,
              "#ed7953"
             ],
             [
              0.7777777777777778,
              "#fb9f3a"
             ],
             [
              0.8888888888888888,
              "#fdca26"
             ],
             [
              1,
              "#f0f921"
             ]
            ],
            "type": "histogram2d"
           }
          ],
          "histogram2dcontour": [
           {
            "colorbar": {
             "outlinewidth": 0,
             "ticks": ""
            },
            "colorscale": [
             [
              0,
              "#0d0887"
             ],
             [
              0.1111111111111111,
              "#46039f"
             ],
             [
              0.2222222222222222,
              "#7201a8"
             ],
             [
              0.3333333333333333,
              "#9c179e"
             ],
             [
              0.4444444444444444,
              "#bd3786"
             ],
             [
              0.5555555555555556,
              "#d8576b"
             ],
             [
              0.6666666666666666,
              "#ed7953"
             ],
             [
              0.7777777777777778,
              "#fb9f3a"
             ],
             [
              0.8888888888888888,
              "#fdca26"
             ],
             [
              1,
              "#f0f921"
             ]
            ],
            "type": "histogram2dcontour"
           }
          ],
          "mesh3d": [
           {
            "colorbar": {
             "outlinewidth": 0,
             "ticks": ""
            },
            "type": "mesh3d"
           }
          ],
          "parcoords": [
           {
            "line": {
             "colorbar": {
              "outlinewidth": 0,
              "ticks": ""
             }
            },
            "type": "parcoords"
           }
          ],
          "pie": [
           {
            "automargin": true,
            "type": "pie"
           }
          ],
          "scatter": [
           {
            "fillpattern": {
             "fillmode": "overlay",
             "size": 10,
             "solidity": 0.2
            },
            "type": "scatter"
           }
          ],
          "scatter3d": [
           {
            "line": {
             "colorbar": {
              "outlinewidth": 0,
              "ticks": ""
             }
            },
            "marker": {
             "colorbar": {
              "outlinewidth": 0,
              "ticks": ""
             }
            },
            "type": "scatter3d"
           }
          ],
          "scattercarpet": [
           {
            "marker": {
             "colorbar": {
              "outlinewidth": 0,
              "ticks": ""
             }
            },
            "type": "scattercarpet"
           }
          ],
          "scattergeo": [
           {
            "marker": {
             "colorbar": {
              "outlinewidth": 0,
              "ticks": ""
             }
            },
            "type": "scattergeo"
           }
          ],
          "scattergl": [
           {
            "marker": {
             "colorbar": {
              "outlinewidth": 0,
              "ticks": ""
             }
            },
            "type": "scattergl"
           }
          ],
          "scattermapbox": [
           {
            "marker": {
             "colorbar": {
              "outlinewidth": 0,
              "ticks": ""
             }
            },
            "type": "scattermapbox"
           }
          ],
          "scatterpolar": [
           {
            "marker": {
             "colorbar": {
              "outlinewidth": 0,
              "ticks": ""
             }
            },
            "type": "scatterpolar"
           }
          ],
          "scatterpolargl": [
           {
            "marker": {
             "colorbar": {
              "outlinewidth": 0,
              "ticks": ""
             }
            },
            "type": "scatterpolargl"
           }
          ],
          "scatterternary": [
           {
            "marker": {
             "colorbar": {
              "outlinewidth": 0,
              "ticks": ""
             }
            },
            "type": "scatterternary"
           }
          ],
          "surface": [
           {
            "colorbar": {
             "outlinewidth": 0,
             "ticks": ""
            },
            "colorscale": [
             [
              0,
              "#0d0887"
             ],
             [
              0.1111111111111111,
              "#46039f"
             ],
             [
              0.2222222222222222,
              "#7201a8"
             ],
             [
              0.3333333333333333,
              "#9c179e"
             ],
             [
              0.4444444444444444,
              "#bd3786"
             ],
             [
              0.5555555555555556,
              "#d8576b"
             ],
             [
              0.6666666666666666,
              "#ed7953"
             ],
             [
              0.7777777777777778,
              "#fb9f3a"
             ],
             [
              0.8888888888888888,
              "#fdca26"
             ],
             [
              1,
              "#f0f921"
             ]
            ],
            "type": "surface"
           }
          ],
          "table": [
           {
            "cells": {
             "fill": {
              "color": "#EBF0F8"
             },
             "line": {
              "color": "white"
             }
            },
            "header": {
             "fill": {
              "color": "#C8D4E3"
             },
             "line": {
              "color": "white"
             }
            },
            "type": "table"
           }
          ]
         },
         "layout": {
          "annotationdefaults": {
           "arrowcolor": "#2a3f5f",
           "arrowhead": 0,
           "arrowwidth": 1
          },
          "autotypenumbers": "strict",
          "coloraxis": {
           "colorbar": {
            "outlinewidth": 0,
            "ticks": ""
           }
          },
          "colorscale": {
           "diverging": [
            [
             0,
             "#8e0152"
            ],
            [
             0.1,
             "#c51b7d"
            ],
            [
             0.2,
             "#de77ae"
            ],
            [
             0.3,
             "#f1b6da"
            ],
            [
             0.4,
             "#fde0ef"
            ],
            [
             0.5,
             "#f7f7f7"
            ],
            [
             0.6,
             "#e6f5d0"
            ],
            [
             0.7,
             "#b8e186"
            ],
            [
             0.8,
             "#7fbc41"
            ],
            [
             0.9,
             "#4d9221"
            ],
            [
             1,
             "#276419"
            ]
           ],
           "sequential": [
            [
             0,
             "#0d0887"
            ],
            [
             0.1111111111111111,
             "#46039f"
            ],
            [
             0.2222222222222222,
             "#7201a8"
            ],
            [
             0.3333333333333333,
             "#9c179e"
            ],
            [
             0.4444444444444444,
             "#bd3786"
            ],
            [
             0.5555555555555556,
             "#d8576b"
            ],
            [
             0.6666666666666666,
             "#ed7953"
            ],
            [
             0.7777777777777778,
             "#fb9f3a"
            ],
            [
             0.8888888888888888,
             "#fdca26"
            ],
            [
             1,
             "#f0f921"
            ]
           ],
           "sequentialminus": [
            [
             0,
             "#0d0887"
            ],
            [
             0.1111111111111111,
             "#46039f"
            ],
            [
             0.2222222222222222,
             "#7201a8"
            ],
            [
             0.3333333333333333,
             "#9c179e"
            ],
            [
             0.4444444444444444,
             "#bd3786"
            ],
            [
             0.5555555555555556,
             "#d8576b"
            ],
            [
             0.6666666666666666,
             "#ed7953"
            ],
            [
             0.7777777777777778,
             "#fb9f3a"
            ],
            [
             0.8888888888888888,
             "#fdca26"
            ],
            [
             1,
             "#f0f921"
            ]
           ]
          },
          "colorway": [
           "#636efa",
           "#EF553B",
           "#00cc96",
           "#ab63fa",
           "#FFA15A",
           "#19d3f3",
           "#FF6692",
           "#B6E880",
           "#FF97FF",
           "#FECB52"
          ],
          "font": {
           "color": "#2a3f5f"
          },
          "geo": {
           "bgcolor": "white",
           "lakecolor": "white",
           "landcolor": "#E5ECF6",
           "showlakes": true,
           "showland": true,
           "subunitcolor": "white"
          },
          "hoverlabel": {
           "align": "left"
          },
          "hovermode": "closest",
          "mapbox": {
           "style": "light"
          },
          "paper_bgcolor": "white",
          "plot_bgcolor": "#E5ECF6",
          "polar": {
           "angularaxis": {
            "gridcolor": "white",
            "linecolor": "white",
            "ticks": ""
           },
           "bgcolor": "#E5ECF6",
           "radialaxis": {
            "gridcolor": "white",
            "linecolor": "white",
            "ticks": ""
           }
          },
          "scene": {
           "xaxis": {
            "backgroundcolor": "#E5ECF6",
            "gridcolor": "white",
            "gridwidth": 2,
            "linecolor": "white",
            "showbackground": true,
            "ticks": "",
            "zerolinecolor": "white"
           },
           "yaxis": {
            "backgroundcolor": "#E5ECF6",
            "gridcolor": "white",
            "gridwidth": 2,
            "linecolor": "white",
            "showbackground": true,
            "ticks": "",
            "zerolinecolor": "white"
           },
           "zaxis": {
            "backgroundcolor": "#E5ECF6",
            "gridcolor": "white",
            "gridwidth": 2,
            "linecolor": "white",
            "showbackground": true,
            "ticks": "",
            "zerolinecolor": "white"
           }
          },
          "shapedefaults": {
           "line": {
            "color": "#2a3f5f"
           }
          },
          "ternary": {
           "aaxis": {
            "gridcolor": "white",
            "linecolor": "white",
            "ticks": ""
           },
           "baxis": {
            "gridcolor": "white",
            "linecolor": "white",
            "ticks": ""
           },
           "bgcolor": "#E5ECF6",
           "caxis": {
            "gridcolor": "white",
            "linecolor": "white",
            "ticks": ""
           }
          },
          "title": {
           "x": 0.05
          },
          "xaxis": {
           "automargin": true,
           "gridcolor": "white",
           "linecolor": "white",
           "ticks": "",
           "title": {
            "standoff": 15
           },
           "zerolinecolor": "white",
           "zerolinewidth": 2
          },
          "yaxis": {
           "automargin": true,
           "gridcolor": "white",
           "linecolor": "white",
           "ticks": "",
           "title": {
            "standoff": 15
           },
           "zerolinecolor": "white",
           "zerolinewidth": 2
          }
         }
        },
        "title": {
         "text": "Sharpe Ratios Evolution"
        },
        "xaxis": {
         "anchor": "y",
         "domain": [
          0,
          1
         ],
         "title": {
          "text": "100"
         }
        },
        "yaxis": {
         "anchor": "x",
         "domain": [
          0,
          1
         ],
         "title": {
          "text": "0.4303580471505537"
         }
        }
       }
      },
      "text/html": [
       "<div>                            <div id=\"35e7138c-87c9-425a-ac87-a740bd876ea2\" class=\"plotly-graph-div\" style=\"height:525px; width:100%;\"></div>            <script type=\"text/javascript\">                require([\"plotly\"], function(Plotly) {                    window.PLOTLYENV=window.PLOTLYENV || {};                                    if (document.getElementById(\"35e7138c-87c9-425a-ac87-a740bd876ea2\")) {                    Plotly.newPlot(                        \"35e7138c-87c9-425a-ac87-a740bd876ea2\",                        [{\"hovertemplate\":\"100=%{x}\\u003cbr\\u003e0.4303580471505537=%{y}\\u003cextra\\u003e\\u003c\\u002fextra\\u003e\",\"legendgroup\":\"\",\"line\":{\"color\":\"#636efa\",\"dash\":\"solid\"},\"marker\":{\"symbol\":\"circle\"},\"mode\":\"lines\",\"name\":\"\",\"orientation\":\"v\",\"showlegend\":false,\"x\":[200,300,400,500,600,700,800,900,1000,1100,1200,1300,1400,1500,1600,1700,1800,1900,2000,2100,2200,2300,2400,2500,2600,2700,2800,2900,3000,3100,3200,3300,3400,3500,3600,3700,3800,3900,4000,4100,4200,4300,4400,4500,4600,4700,4800,4900,5000,5100,5200,5300,5400,5500,5600,5700,5800,5900,6000,6100,6200,6300,6400,6500,6600,6700,6800,6900,7000,7100,7200,7300,7400,7500,7600,7700,7800,7900,8000,8100,8200,8300,8400,8500,8600,8700,8800,8900,9000,9100,9200,9300,9400,9500,9600,9700,9800,9900,10000],\"xaxis\":\"x\",\"y\":[0.5263747407643073,0.5263747407643073,0.5263747407643073,0.5263747407643073,0.5263747407643073,0.5263747407643073,0.5263747407643073,0.5263747407643073,0.5263747407643073,0.5263747407643073,0.5263747407643073,0.5263747407643073,0.5263747407643073,0.5263747407643073,0.5263747407643073,0.5263747407643073,0.5263747407643073,0.5263747407643073,0.5263747407643073,0.5263747407643073,0.5263747407643073,0.5263747407643073,0.5263747407643073,0.5263747407643073,0.5263747407643073,0.5263747407643073,0.5263747407643073,0.5263747407643073,0.5263747407643073,0.5263747407643073,0.5263747407643073,0.5263747407643073,0.5263747407643073,0.5263747407643073,0.5263747407643073,0.5263747407643073,0.5263747407643073,0.5263747407643073,0.5263747407643073,0.5263747407643073,0.5263747407643073,0.5263747407643073,0.5263747407643073,0.5263747407643073,0.5263747407643073,0.5263747407643073,0.5263747407643073,0.5263747407643073,0.5263747407643073,0.5263747407643073,0.5263747407643073,0.5263747407643073,1.473993742821827,1.473993742821827,1.473993742821827,1.473993742821827,1.473993742821827,1.473993742821827,1.473993742821827,1.473993742821827,1.473993742821827,1.473993742821827,1.473993742821827,1.473993742821827,1.473993742821827,1.473993742821827,1.473993742821827,1.473993742821827,1.473993742821827,1.473993742821827,1.473993742821827,1.473993742821827,1.473993742821827,1.473993742821827,1.473993742821827,1.473993742821827,1.473993742821827,1.473993742821827,1.473993742821827,1.473993742821827,1.473993742821827,1.473993742821827,1.473993742821827,1.473993742821827,1.473993742821827,1.473993742821827,1.473993742821827,1.473993742821827,1.473993742821827,1.473993742821827,1.473993742821827,1.473993742821827,1.473993742821827,1.473993742821827,1.473993742821827,1.473993742821827,1.473993742821827,1.473993742821827,1.473993742821827],\"yaxis\":\"y\",\"type\":\"scatter\"}],                        {\"template\":{\"data\":{\"histogram2dcontour\":[{\"type\":\"histogram2dcontour\",\"colorbar\":{\"outlinewidth\":0,\"ticks\":\"\"},\"colorscale\":[[0.0,\"#0d0887\"],[0.1111111111111111,\"#46039f\"],[0.2222222222222222,\"#7201a8\"],[0.3333333333333333,\"#9c179e\"],[0.4444444444444444,\"#bd3786\"],[0.5555555555555556,\"#d8576b\"],[0.6666666666666666,\"#ed7953\"],[0.7777777777777778,\"#fb9f3a\"],[0.8888888888888888,\"#fdca26\"],[1.0,\"#f0f921\"]]}],\"choropleth\":[{\"type\":\"choropleth\",\"colorbar\":{\"outlinewidth\":0,\"ticks\":\"\"}}],\"histogram2d\":[{\"type\":\"histogram2d\",\"colorbar\":{\"outlinewidth\":0,\"ticks\":\"\"},\"colorscale\":[[0.0,\"#0d0887\"],[0.1111111111111111,\"#46039f\"],[0.2222222222222222,\"#7201a8\"],[0.3333333333333333,\"#9c179e\"],[0.4444444444444444,\"#bd3786\"],[0.5555555555555556,\"#d8576b\"],[0.6666666666666666,\"#ed7953\"],[0.7777777777777778,\"#fb9f3a\"],[0.8888888888888888,\"#fdca26\"],[1.0,\"#f0f921\"]]}],\"heatmap\":[{\"type\":\"heatmap\",\"colorbar\":{\"outlinewidth\":0,\"ticks\":\"\"},\"colorscale\":[[0.0,\"#0d0887\"],[0.1111111111111111,\"#46039f\"],[0.2222222222222222,\"#7201a8\"],[0.3333333333333333,\"#9c179e\"],[0.4444444444444444,\"#bd3786\"],[0.5555555555555556,\"#d8576b\"],[0.6666666666666666,\"#ed7953\"],[0.7777777777777778,\"#fb9f3a\"],[0.8888888888888888,\"#fdca26\"],[1.0,\"#f0f921\"]]}],\"heatmapgl\":[{\"type\":\"heatmapgl\",\"colorbar\":{\"outlinewidth\":0,\"ticks\":\"\"},\"colorscale\":[[0.0,\"#0d0887\"],[0.1111111111111111,\"#46039f\"],[0.2222222222222222,\"#7201a8\"],[0.3333333333333333,\"#9c179e\"],[0.4444444444444444,\"#bd3786\"],[0.5555555555555556,\"#d8576b\"],[0.6666666666666666,\"#ed7953\"],[0.7777777777777778,\"#fb9f3a\"],[0.8888888888888888,\"#fdca26\"],[1.0,\"#f0f921\"]]}],\"contourcarpet\":[{\"type\":\"contourcarpet\",\"colorbar\":{\"outlinewidth\":0,\"ticks\":\"\"}}],\"contour\":[{\"type\":\"contour\",\"colorbar\":{\"outlinewidth\":0,\"ticks\":\"\"},\"colorscale\":[[0.0,\"#0d0887\"],[0.1111111111111111,\"#46039f\"],[0.2222222222222222,\"#7201a8\"],[0.3333333333333333,\"#9c179e\"],[0.4444444444444444,\"#bd3786\"],[0.5555555555555556,\"#d8576b\"],[0.6666666666666666,\"#ed7953\"],[0.7777777777777778,\"#fb9f3a\"],[0.8888888888888888,\"#fdca26\"],[1.0,\"#f0f921\"]]}],\"surface\":[{\"type\":\"surface\",\"colorbar\":{\"outlinewidth\":0,\"ticks\":\"\"},\"colorscale\":[[0.0,\"#0d0887\"],[0.1111111111111111,\"#46039f\"],[0.2222222222222222,\"#7201a8\"],[0.3333333333333333,\"#9c179e\"],[0.4444444444444444,\"#bd3786\"],[0.5555555555555556,\"#d8576b\"],[0.6666666666666666,\"#ed7953\"],[0.7777777777777778,\"#fb9f3a\"],[0.8888888888888888,\"#fdca26\"],[1.0,\"#f0f921\"]]}],\"mesh3d\":[{\"type\":\"mesh3d\",\"colorbar\":{\"outlinewidth\":0,\"ticks\":\"\"}}],\"scatter\":[{\"fillpattern\":{\"fillmode\":\"overlay\",\"size\":10,\"solidity\":0.2},\"type\":\"scatter\"}],\"parcoords\":[{\"type\":\"parcoords\",\"line\":{\"colorbar\":{\"outlinewidth\":0,\"ticks\":\"\"}}}],\"scatterpolargl\":[{\"type\":\"scatterpolargl\",\"marker\":{\"colorbar\":{\"outlinewidth\":0,\"ticks\":\"\"}}}],\"bar\":[{\"error_x\":{\"color\":\"#2a3f5f\"},\"error_y\":{\"color\":\"#2a3f5f\"},\"marker\":{\"line\":{\"color\":\"#E5ECF6\",\"width\":0.5},\"pattern\":{\"fillmode\":\"overlay\",\"size\":10,\"solidity\":0.2}},\"type\":\"bar\"}],\"scattergeo\":[{\"type\":\"scattergeo\",\"marker\":{\"colorbar\":{\"outlinewidth\":0,\"ticks\":\"\"}}}],\"scatterpolar\":[{\"type\":\"scatterpolar\",\"marker\":{\"colorbar\":{\"outlinewidth\":0,\"ticks\":\"\"}}}],\"histogram\":[{\"marker\":{\"pattern\":{\"fillmode\":\"overlay\",\"size\":10,\"solidity\":0.2}},\"type\":\"histogram\"}],\"scattergl\":[{\"type\":\"scattergl\",\"marker\":{\"colorbar\":{\"outlinewidth\":0,\"ticks\":\"\"}}}],\"scatter3d\":[{\"type\":\"scatter3d\",\"line\":{\"colorbar\":{\"outlinewidth\":0,\"ticks\":\"\"}},\"marker\":{\"colorbar\":{\"outlinewidth\":0,\"ticks\":\"\"}}}],\"scattermapbox\":[{\"type\":\"scattermapbox\",\"marker\":{\"colorbar\":{\"outlinewidth\":0,\"ticks\":\"\"}}}],\"scatterternary\":[{\"type\":\"scatterternary\",\"marker\":{\"colorbar\":{\"outlinewidth\":0,\"ticks\":\"\"}}}],\"scattercarpet\":[{\"type\":\"scattercarpet\",\"marker\":{\"colorbar\":{\"outlinewidth\":0,\"ticks\":\"\"}}}],\"carpet\":[{\"aaxis\":{\"endlinecolor\":\"#2a3f5f\",\"gridcolor\":\"white\",\"linecolor\":\"white\",\"minorgridcolor\":\"white\",\"startlinecolor\":\"#2a3f5f\"},\"baxis\":{\"endlinecolor\":\"#2a3f5f\",\"gridcolor\":\"white\",\"linecolor\":\"white\",\"minorgridcolor\":\"white\",\"startlinecolor\":\"#2a3f5f\"},\"type\":\"carpet\"}],\"table\":[{\"cells\":{\"fill\":{\"color\":\"#EBF0F8\"},\"line\":{\"color\":\"white\"}},\"header\":{\"fill\":{\"color\":\"#C8D4E3\"},\"line\":{\"color\":\"white\"}},\"type\":\"table\"}],\"barpolar\":[{\"marker\":{\"line\":{\"color\":\"#E5ECF6\",\"width\":0.5},\"pattern\":{\"fillmode\":\"overlay\",\"size\":10,\"solidity\":0.2}},\"type\":\"barpolar\"}],\"pie\":[{\"automargin\":true,\"type\":\"pie\"}]},\"layout\":{\"autotypenumbers\":\"strict\",\"colorway\":[\"#636efa\",\"#EF553B\",\"#00cc96\",\"#ab63fa\",\"#FFA15A\",\"#19d3f3\",\"#FF6692\",\"#B6E880\",\"#FF97FF\",\"#FECB52\"],\"font\":{\"color\":\"#2a3f5f\"},\"hovermode\":\"closest\",\"hoverlabel\":{\"align\":\"left\"},\"paper_bgcolor\":\"white\",\"plot_bgcolor\":\"#E5ECF6\",\"polar\":{\"bgcolor\":\"#E5ECF6\",\"angularaxis\":{\"gridcolor\":\"white\",\"linecolor\":\"white\",\"ticks\":\"\"},\"radialaxis\":{\"gridcolor\":\"white\",\"linecolor\":\"white\",\"ticks\":\"\"}},\"ternary\":{\"bgcolor\":\"#E5ECF6\",\"aaxis\":{\"gridcolor\":\"white\",\"linecolor\":\"white\",\"ticks\":\"\"},\"baxis\":{\"gridcolor\":\"white\",\"linecolor\":\"white\",\"ticks\":\"\"},\"caxis\":{\"gridcolor\":\"white\",\"linecolor\":\"white\",\"ticks\":\"\"}},\"coloraxis\":{\"colorbar\":{\"outlinewidth\":0,\"ticks\":\"\"}},\"colorscale\":{\"sequential\":[[0.0,\"#0d0887\"],[0.1111111111111111,\"#46039f\"],[0.2222222222222222,\"#7201a8\"],[0.3333333333333333,\"#9c179e\"],[0.4444444444444444,\"#bd3786\"],[0.5555555555555556,\"#d8576b\"],[0.6666666666666666,\"#ed7953\"],[0.7777777777777778,\"#fb9f3a\"],[0.8888888888888888,\"#fdca26\"],[1.0,\"#f0f921\"]],\"sequentialminus\":[[0.0,\"#0d0887\"],[0.1111111111111111,\"#46039f\"],[0.2222222222222222,\"#7201a8\"],[0.3333333333333333,\"#9c179e\"],[0.4444444444444444,\"#bd3786\"],[0.5555555555555556,\"#d8576b\"],[0.6666666666666666,\"#ed7953\"],[0.7777777777777778,\"#fb9f3a\"],[0.8888888888888888,\"#fdca26\"],[1.0,\"#f0f921\"]],\"diverging\":[[0,\"#8e0152\"],[0.1,\"#c51b7d\"],[0.2,\"#de77ae\"],[0.3,\"#f1b6da\"],[0.4,\"#fde0ef\"],[0.5,\"#f7f7f7\"],[0.6,\"#e6f5d0\"],[0.7,\"#b8e186\"],[0.8,\"#7fbc41\"],[0.9,\"#4d9221\"],[1,\"#276419\"]]},\"xaxis\":{\"gridcolor\":\"white\",\"linecolor\":\"white\",\"ticks\":\"\",\"title\":{\"standoff\":15},\"zerolinecolor\":\"white\",\"automargin\":true,\"zerolinewidth\":2},\"yaxis\":{\"gridcolor\":\"white\",\"linecolor\":\"white\",\"ticks\":\"\",\"title\":{\"standoff\":15},\"zerolinecolor\":\"white\",\"automargin\":true,\"zerolinewidth\":2},\"scene\":{\"xaxis\":{\"backgroundcolor\":\"#E5ECF6\",\"gridcolor\":\"white\",\"linecolor\":\"white\",\"showbackground\":true,\"ticks\":\"\",\"zerolinecolor\":\"white\",\"gridwidth\":2},\"yaxis\":{\"backgroundcolor\":\"#E5ECF6\",\"gridcolor\":\"white\",\"linecolor\":\"white\",\"showbackground\":true,\"ticks\":\"\",\"zerolinecolor\":\"white\",\"gridwidth\":2},\"zaxis\":{\"backgroundcolor\":\"#E5ECF6\",\"gridcolor\":\"white\",\"linecolor\":\"white\",\"showbackground\":true,\"ticks\":\"\",\"zerolinecolor\":\"white\",\"gridwidth\":2}},\"shapedefaults\":{\"line\":{\"color\":\"#2a3f5f\"}},\"annotationdefaults\":{\"arrowcolor\":\"#2a3f5f\",\"arrowhead\":0,\"arrowwidth\":1},\"geo\":{\"bgcolor\":\"white\",\"landcolor\":\"#E5ECF6\",\"subunitcolor\":\"white\",\"showland\":true,\"showlakes\":true,\"lakecolor\":\"white\"},\"title\":{\"x\":0.05},\"mapbox\":{\"style\":\"light\"}}},\"xaxis\":{\"anchor\":\"y\",\"domain\":[0.0,1.0],\"title\":{\"text\":\"100\"}},\"yaxis\":{\"anchor\":\"x\",\"domain\":[0.0,1.0],\"title\":{\"text\":\"0.4303580471505537\"}},\"legend\":{\"tracegroupgap\":0},\"title\":{\"text\":\"Sharpe Ratios Evolution\"}},                        {\"responsive\": true}                    ).then(function(){\n",
       "                            \n",
       "var gd = document.getElementById('35e7138c-87c9-425a-ac87-a740bd876ea2');\n",
       "var x = new MutationObserver(function (mutations, observer) {{\n",
       "        var display = window.getComputedStyle(gd).display;\n",
       "        if (!display || display === 'none') {{\n",
       "            console.log([gd, 'removed!']);\n",
       "            Plotly.purge(gd);\n",
       "            observer.disconnect();\n",
       "        }}\n",
       "}});\n",
       "\n",
       "// Listen for the removal of the full notebook cells\n",
       "var notebookContainer = gd.closest('#notebook-container');\n",
       "if (notebookContainer) {{\n",
       "    x.observe(notebookContainer, {childList: true});\n",
       "}}\n",
       "\n",
       "// Listen for the clearing of the current output cell\n",
       "var outputEl = gd.closest('.output');\n",
       "if (outputEl) {{\n",
       "    x.observe(outputEl, {childList: true});\n",
       "}}\n",
       "\n",
       "                        })                };                });            </script>        </div>"
      ]
     },
     "metadata": {},
     "output_type": "display_data"
    }
   ],
   "source": [
    "x_column = simulation_results.columns[0]\n",
    "y_column = simulation_results.columns[1]\n",
    "\n",
    "# Create the line plot\n",
    "fig = px.line(simulation_results, x=x_column, y=y_column, title='Sharpe Ratios Evolution')\n",
    "fig.show()"
   ]
  },
  {
   "cell_type": "code",
   "execution_count": 17,
   "metadata": {},
   "outputs": [
    {
     "data": {
      "application/vnd.plotly.v1+json": {
       "config": {
        "plotlyServerURL": "https://plot.ly"
       },
       "data": [
        {
         "mode": "lines",
         "name": "MA 25/100",
         "type": "scatter",
         "x": [
          200,
          300,
          400,
          500,
          600,
          700,
          800,
          900,
          1000,
          1100,
          1200,
          1300,
          1400,
          1500,
          1600,
          1700,
          1800,
          1900,
          2000,
          2100,
          2200,
          2300,
          2400,
          2500,
          2600,
          2700,
          2800,
          2900,
          3000,
          3100,
          3200,
          3300,
          3400,
          3500,
          3600,
          3700,
          3800,
          3900,
          4000,
          4100,
          4200,
          4300,
          4400,
          4500,
          4600,
          4700,
          4800,
          4900,
          5000,
          5100,
          5200,
          5300,
          5400,
          5500,
          5600,
          5700,
          5800,
          5900,
          6000,
          6100,
          6200,
          6300,
          6400,
          6500,
          6600,
          6700,
          6800,
          6900,
          7000,
          7100,
          7200,
          7300,
          7400,
          7500,
          7600,
          7700,
          7800,
          7900,
          8000,
          8100,
          8200,
          8300,
          8400,
          8500,
          8600,
          8700,
          8800,
          8900,
          9000,
          9100,
          9200,
          9300,
          9400,
          9500,
          9600,
          9700,
          9800,
          9900,
          10000
         ],
         "y": [
          0.376403815626698,
          0.247427014786094,
          0.2089848904837246,
          0.2344579743524804,
          0.2273135255136559,
          0.1575781300147988,
          0.200701117399288,
          0.2656480457059487,
          0.2102259131075024,
          0.1987521453232846,
          0.2214569828667705,
          0.3129073021897806,
          0.3084753832485358,
          0.2469413578648076,
          0.235752720579717,
          0.1541420962112838,
          0.1961447432391294,
          0.2966954968229746,
          0.1927149083262182,
          0.1794586308505003,
          0.2543797048612616,
          0.2669570669119243,
          0.328548086686163,
          0.3397499119187242,
          0.3184257841752023,
          0.3071477375769968,
          0.3655907476978397,
          0.4696893566909326,
          0.4980082431614197,
          0.5238893832361424,
          0.3788928502229405,
          0.4171278733591693,
          0.3068055168575566,
          0.2492221243112329,
          0.3529607807262954,
          0.3152164368415275,
          0.4177689815367986,
          0.388794717564265,
          0.3040534987272094,
          0.3548811302578332,
          0.3586062121055483,
          0.407124744141831,
          0.5052454616680799,
          0.5813973248767174,
          0.4217363523505466,
          0.3638364271249903,
          0.4063206391553704,
          0.346052913446335,
          0.4387011833681188,
          0.5176795597091152,
          0.3895037447081645,
          0.5599880053657532,
          0.6756117812115701,
          0.6606131462562199,
          0.7428741229639652,
          0.7793939044904729,
          0.7165221858805341,
          0.7799056153071778,
          0.7142302217762028,
          0.7577470321128723,
          0.6805560746488128,
          0.6159713909239285,
          0.7445797960964653,
          0.717447565759009,
          0.7384877771238578,
          0.7752114576965662,
          0.7624053533450132,
          0.7543497314012195,
          0.7959672677118806,
          0.7609738194093134,
          0.6671833894231305,
          0.7343698150398688,
          0.6494095588358818,
          0.7824681802997677,
          0.8067365854894586,
          0.7038239429022599,
          0.7713644526820044,
          0.7540955278037034,
          0.7026001522310373,
          0.7151323536579272,
          0.7514780224316775,
          0.7846893621283755,
          0.6495811873243794,
          0.6439816710316355,
          0.7079993510929554,
          0.6656756701551126,
          0.7436862888995461,
          0.8188092297209154,
          0.7500030133234845,
          0.6973484205374884,
          0.7643198704482402,
          0.7032859289844036,
          0.6828758743296546,
          0.6477807735118111,
          0.7181980833152249,
          0.5741154585753112,
          0.6971532379809469,
          0.6983996643444643,
          0.7826028657247807
         ]
        },
        {
         "mode": "lines",
         "name": "MA 25/70",
         "type": "scatter",
         "x": [
          200,
          300,
          400,
          500,
          600,
          700,
          800,
          900,
          1000,
          1100,
          1200,
          1300,
          1400,
          1500,
          1600,
          1700,
          1800,
          1900,
          2000,
          2100,
          2200,
          2300,
          2400,
          2500,
          2600,
          2700,
          2800,
          2900,
          3000,
          3100,
          3200,
          3300,
          3400,
          3500,
          3600,
          3700,
          3800,
          3900,
          4000,
          4100,
          4200,
          4300,
          4400,
          4500,
          4600,
          4700,
          4800,
          4900,
          5000,
          5100,
          5200,
          5300,
          5400,
          5500,
          5600,
          5700,
          5800,
          5900,
          6000,
          6100,
          6200,
          6300,
          6400,
          6500,
          6600,
          6700,
          6800,
          6900,
          7000,
          7100,
          7200,
          7300,
          7400,
          7500,
          7600,
          7700,
          7800,
          7900,
          8000,
          8100,
          8200,
          8300,
          8400,
          8500,
          8600,
          8700,
          8800,
          8900,
          9000,
          9100,
          9200,
          9300,
          9400,
          9500,
          9600,
          9700,
          9800,
          9900,
          10000
         ],
         "y": [
          0.0194415288027336,
          0.0100891355996874,
          0.0101887819607483,
          0.0103646495517053,
          0.0767603625756181,
          0.0198917134323356,
          0.1278219909159516,
          0.0245818290570675,
          0.0203372730308268,
          0.0756546553666059,
          0.0284174351079822,
          0.0331366998302162,
          0.1495865034493907,
          0.0807077762415478,
          0.0808247706214221,
          0.0571409341906361,
          0.140251442023872,
          0.0714864668043183,
          0.0101242856502468,
          0.0147226557934301,
          0.0578853586164614,
          0.0974432494512524,
          0.0825412970670114,
          0.1486665828391846,
          0.1320663361175983,
          0.145105048193179,
          0.1097485396171314,
          0.0464870452880856,
          0.020794147327021,
          0.0476459476363996,
          0.057186865953116,
          0.0283388418085718,
          0.1155766983117622,
          0.1069960248558441,
          0.0166773804620633,
          0.0324712783228777,
          0.0841356893456414,
          0.0234811162778595,
          0.1360164875767801,
          0.1271738761747593,
          0.0923116756155098,
          0.0565131132956959,
          0.0880925250775884,
          0.0338738572058415,
          0.075748029559216,
          0.1298857122944117,
          0.0254384846689902,
          0.1160025194599677,
          0.1246708623958997,
          0.0860021268893671,
          0.1467788962232752,
          0.0461395167741486,
          0.1084076359383112,
          0.1299753317188784,
          0.099929048267089,
          0.0378362528271513,
          0.0607412097401794,
          0.0140855650640531,
          0.0973567103886166,
          0.0673257749694363,
          0.1166294864546338,
          0.1077879072602328,
          0.0456251450365312,
          0.0871334876099171,
          0.0407580899899155,
          0.0107513802862481,
          0.0530390377218695,
          0.0588123706317993,
          0.0396847958315617,
          0.0684520711923405,
          0.1369578396181498,
          0.1053281748787926,
          0.0987139479531924,
          0.0252031791262344,
          0.0358902471072308,
          0.1038439969161989,
          0.0444940756750212,
          0.0483846377089668,
          0.1308139002498576,
          0.1047031590370763,
          0.0560950486823954,
          0.009957768277565,
          0.1486248204803862,
          0.1120168168474236,
          0.1251402946179407,
          0.0993898722411704,
          0.0338689997832181,
          0.0255734400799256,
          0.0533418994790704,
          0.1187296142713404,
          0.0102271080166386,
          0.1304176946648916,
          0.1386031166553603,
          0.1300009778281836,
          0.0995582104314514,
          0.1485399924225205,
          0.1247661993737882,
          0.1292972337129109,
          0.0625702154188713
         ]
        },
        {
         "mode": "lines",
         "name": "RSI 15",
         "type": "scatter",
         "x": [
          200,
          300,
          400,
          500,
          600,
          700,
          800,
          900,
          1000,
          1100,
          1200,
          1300,
          1400,
          1500,
          1600,
          1700,
          1800,
          1900,
          2000,
          2100,
          2200,
          2300,
          2400,
          2500,
          2600,
          2700,
          2800,
          2900,
          3000,
          3100,
          3200,
          3300,
          3400,
          3500,
          3600,
          3700,
          3800,
          3900,
          4000,
          4100,
          4200,
          4300,
          4400,
          4500,
          4600,
          4700,
          4800,
          4900,
          5000,
          5100,
          5200,
          5300,
          5400,
          5500,
          5600,
          5700,
          5800,
          5900,
          6000,
          6100,
          6200,
          6300,
          6400,
          6500,
          6600,
          6700,
          6800,
          6900,
          7000,
          7100,
          7200,
          7300,
          7400,
          7500,
          7600,
          7700,
          7800,
          7900,
          8000,
          8100,
          8200,
          8300,
          8400,
          8500,
          8600,
          8700,
          8800,
          8900,
          9000,
          9100,
          9200,
          9300,
          9400,
          9500,
          9600,
          9700,
          9800,
          9900,
          10000
         ],
         "y": [
          0.0653963201299076,
          0.1445789686519048,
          0.0490333998188423,
          0.1343854550522113,
          0.1110810346018015,
          0.0301310601073056,
          0.01530250792069,
          0.1021683697348573,
          0.0527811990798537,
          0.1410454484223973,
          0.0680145304802961,
          0.0299652296315824,
          0.031454558826023,
          0.0669228887915789,
          0.0234388083236755,
          0.1058458224750802,
          0.0109804048521656,
          0.0611373757629945,
          0.0987167499974118,
          0.0641073745943681,
          0.0324080565474698,
          0.0276029622127657,
          0.0680237938755378,
          0.0723153895597837,
          0.0982994979902667,
          0.1488537902363234,
          0.1055497158824361,
          0.0095395106146507,
          0.0098152284553395,
          0.0303081181890011,
          0.1075173142080273,
          0.0961727922145073,
          0.0440580077784941,
          0.0844151393324041,
          0.0892235855158706,
          0.1240900735331875,
          0.0393220734218976,
          0.0570488967813875,
          0.0683821418918561,
          0.0958454307003312,
          0.0513649675613798,
          0.1466748651878768,
          0.1128799532929378,
          0.0589208770408724,
          0.12326737702006,
          0.1421895379005715,
          0.0979780980470175,
          0.0858029642004754,
          0.0301522235741641,
          0.0949541380966225,
          0.1091337714411707,
          0.0648596663801849,
          0.0671079110717919,
          0.1230861225561796,
          0.018355336205728,
          0.1029551972842367,
          0.1406950690192859,
          0.133255448948067,
          0.1045588039500808,
          0.1354657387730098,
          0.0717560738897684,
          0.1379790933410852,
          0.0727956500955735,
          0.075012271893351,
          0.0830700158700162,
          0.1051266344368371,
          0.0781429321376866,
          0.0761272816258512,
          0.1055447498674184,
          0.1275520357218354,
          0.1113358409167295,
          0.0537922657011992,
          0.1219523646872236,
          0.1484297129411214,
          0.0968385837822381,
          0.1421047747496151,
          0.1254070098415537,
          0.118220955837943,
          0.0892970094786782,
          0.0629850932443026,
          0.146608370726368,
          0.1443532742287563,
          0.1034924576523131,
          0.127073877754952,
          0.1364335119290232,
          0.1475038111947406,
          0.0757585620790801,
          0.099373934834992,
          0.1144650021340609,
          0.1088160778338316,
          0.0910824953421634,
          0.1106075429075981,
          0.1088032175176499,
          0.1194997233794284,
          0.1129379821212252,
          0.1383900420275393,
          0.0766730532031361,
          0.0445994140327483,
          0.0097270682976645
         ]
        },
        {
         "mode": "lines",
         "name": "RSI 30",
         "type": "scatter",
         "x": [
          200,
          300,
          400,
          500,
          600,
          700,
          800,
          900,
          1000,
          1100,
          1200,
          1300,
          1400,
          1500,
          1600,
          1700,
          1800,
          1900,
          2000,
          2100,
          2200,
          2300,
          2400,
          2500,
          2600,
          2700,
          2800,
          2900,
          3000,
          3100,
          3200,
          3300,
          3400,
          3500,
          3600,
          3700,
          3800,
          3900,
          4000,
          4100,
          4200,
          4300,
          4400,
          4500,
          4600,
          4700,
          4800,
          4900,
          5000,
          5100,
          5200,
          5300,
          5400,
          5500,
          5600,
          5700,
          5800,
          5900,
          6000,
          6100,
          6200,
          6300,
          6400,
          6500,
          6600,
          6700,
          6800,
          6900,
          7000,
          7100,
          7200,
          7300,
          7400,
          7500,
          7600,
          7700,
          7800,
          7900,
          8000,
          8100,
          8200,
          8300,
          8400,
          8500,
          8600,
          8700,
          8800,
          8900,
          9000,
          9100,
          9200,
          9300,
          9400,
          9500,
          9600,
          9700,
          9800,
          9900,
          10000
         ],
         "y": [
          0.5387583354406608,
          0.5979048809623134,
          0.7317929277366846,
          0.6207919210436029,
          0.5848450773089243,
          0.7923990964455598,
          0.6561743837640702,
          0.6076017555021264,
          0.716655614781817,
          0.584547750887712,
          0.6821110515449511,
          0.6239907683484207,
          0.5104835544760504,
          0.6054279771020656,
          0.6599837004751854,
          0.6828711471229997,
          0.6526234098848329,
          0.5706806606097126,
          0.6984440560261229,
          0.7417113387617014,
          0.655326879974807,
          0.6079967214240575,
          0.5208868223712878,
          0.4392681156823075,
          0.4512083817169326,
          0.3988934239935007,
          0.4191109968025926,
          0.4742840874063309,
          0.4713823810562196,
          0.3981565509384568,
          0.4564029696159161,
          0.4583604926177515,
          0.5335597770521868,
          0.5593667115005189,
          0.5411382532957704,
          0.5282222113024072,
          0.4587732556956622,
          0.5306752693764879,
          0.4915478718041542,
          0.4220995628670763,
          0.497717144717562,
          0.3896872773745961,
          0.2937820599613938,
          0.3258079408765686,
          0.3792482410701773,
          0.3640883226800263,
          0.4702627781286218,
          0.4521416028932217,
          0.4064757306618171,
          0.3013641753048952,
          0.3545835876273895,
          0.3290128114799133,
          0.1488726717783267,
          0.0863253994687221,
          0.1388414925632177,
          0.079814645398139,
          0.0820415353600005,
          0.0727533706807019,
          0.0838542638850997,
          0.0394614541446814,
          0.1310583650067848,
          0.1382616084747533,
          0.1369994087714298,
          0.1204066747377226,
          0.1376841170162105,
          0.1089105275803485,
          0.1064126767954305,
          0.1107106163411299,
          0.0588031865891391,
          0.0430220736765106,
          0.0845229300419901,
          0.1065097443801393,
          0.1299241285237022,
          0.0438989276328764,
          0.0605345836210723,
          0.0502272854319259,
          0.0587344618014206,
          0.0792988786493867,
          0.0772889380404268,
          0.117179394060694,
          0.045818558159559,
          0.0609995953653032,
          0.0983015345429213,
          0.1169276343659889,
          0.0304268423600808,
          0.0874306464089762,
          0.1466861492381555,
          0.056243395364167,
          0.0821900850633839,
          0.0751058873573396,
          0.1343705261929576,
          0.0556888334431068,
          0.069717791497335,
          0.1027185252805768,
          0.0693057241320983,
          0.1389545069746288,
          0.1014075094421288,
          0.1277036879098765,
          0.1450998505586835
         ]
        }
       ],
       "layout": {
        "legend": {
         "title": {
          "text": "Signals"
         }
        },
        "template": {
         "data": {
          "bar": [
           {
            "error_x": {
             "color": "#2a3f5f"
            },
            "error_y": {
             "color": "#2a3f5f"
            },
            "marker": {
             "line": {
              "color": "#E5ECF6",
              "width": 0.5
             },
             "pattern": {
              "fillmode": "overlay",
              "size": 10,
              "solidity": 0.2
             }
            },
            "type": "bar"
           }
          ],
          "barpolar": [
           {
            "marker": {
             "line": {
              "color": "#E5ECF6",
              "width": 0.5
             },
             "pattern": {
              "fillmode": "overlay",
              "size": 10,
              "solidity": 0.2
             }
            },
            "type": "barpolar"
           }
          ],
          "carpet": [
           {
            "aaxis": {
             "endlinecolor": "#2a3f5f",
             "gridcolor": "white",
             "linecolor": "white",
             "minorgridcolor": "white",
             "startlinecolor": "#2a3f5f"
            },
            "baxis": {
             "endlinecolor": "#2a3f5f",
             "gridcolor": "white",
             "linecolor": "white",
             "minorgridcolor": "white",
             "startlinecolor": "#2a3f5f"
            },
            "type": "carpet"
           }
          ],
          "choropleth": [
           {
            "colorbar": {
             "outlinewidth": 0,
             "ticks": ""
            },
            "type": "choropleth"
           }
          ],
          "contour": [
           {
            "colorbar": {
             "outlinewidth": 0,
             "ticks": ""
            },
            "colorscale": [
             [
              0,
              "#0d0887"
             ],
             [
              0.1111111111111111,
              "#46039f"
             ],
             [
              0.2222222222222222,
              "#7201a8"
             ],
             [
              0.3333333333333333,
              "#9c179e"
             ],
             [
              0.4444444444444444,
              "#bd3786"
             ],
             [
              0.5555555555555556,
              "#d8576b"
             ],
             [
              0.6666666666666666,
              "#ed7953"
             ],
             [
              0.7777777777777778,
              "#fb9f3a"
             ],
             [
              0.8888888888888888,
              "#fdca26"
             ],
             [
              1,
              "#f0f921"
             ]
            ],
            "type": "contour"
           }
          ],
          "contourcarpet": [
           {
            "colorbar": {
             "outlinewidth": 0,
             "ticks": ""
            },
            "type": "contourcarpet"
           }
          ],
          "heatmap": [
           {
            "colorbar": {
             "outlinewidth": 0,
             "ticks": ""
            },
            "colorscale": [
             [
              0,
              "#0d0887"
             ],
             [
              0.1111111111111111,
              "#46039f"
             ],
             [
              0.2222222222222222,
              "#7201a8"
             ],
             [
              0.3333333333333333,
              "#9c179e"
             ],
             [
              0.4444444444444444,
              "#bd3786"
             ],
             [
              0.5555555555555556,
              "#d8576b"
             ],
             [
              0.6666666666666666,
              "#ed7953"
             ],
             [
              0.7777777777777778,
              "#fb9f3a"
             ],
             [
              0.8888888888888888,
              "#fdca26"
             ],
             [
              1,
              "#f0f921"
             ]
            ],
            "type": "heatmap"
           }
          ],
          "heatmapgl": [
           {
            "colorbar": {
             "outlinewidth": 0,
             "ticks": ""
            },
            "colorscale": [
             [
              0,
              "#0d0887"
             ],
             [
              0.1111111111111111,
              "#46039f"
             ],
             [
              0.2222222222222222,
              "#7201a8"
             ],
             [
              0.3333333333333333,
              "#9c179e"
             ],
             [
              0.4444444444444444,
              "#bd3786"
             ],
             [
              0.5555555555555556,
              "#d8576b"
             ],
             [
              0.6666666666666666,
              "#ed7953"
             ],
             [
              0.7777777777777778,
              "#fb9f3a"
             ],
             [
              0.8888888888888888,
              "#fdca26"
             ],
             [
              1,
              "#f0f921"
             ]
            ],
            "type": "heatmapgl"
           }
          ],
          "histogram": [
           {
            "marker": {
             "pattern": {
              "fillmode": "overlay",
              "size": 10,
              "solidity": 0.2
             }
            },
            "type": "histogram"
           }
          ],
          "histogram2d": [
           {
            "colorbar": {
             "outlinewidth": 0,
             "ticks": ""
            },
            "colorscale": [
             [
              0,
              "#0d0887"
             ],
             [
              0.1111111111111111,
              "#46039f"
             ],
             [
              0.2222222222222222,
              "#7201a8"
             ],
             [
              0.3333333333333333,
              "#9c179e"
             ],
             [
              0.4444444444444444,
              "#bd3786"
             ],
             [
              0.5555555555555556,
              "#d8576b"
             ],
             [
              0.6666666666666666,
              "#ed7953"
             ],
             [
              0.7777777777777778,
              "#fb9f3a"
             ],
             [
              0.8888888888888888,
              "#fdca26"
             ],
             [
              1,
              "#f0f921"
             ]
            ],
            "type": "histogram2d"
           }
          ],
          "histogram2dcontour": [
           {
            "colorbar": {
             "outlinewidth": 0,
             "ticks": ""
            },
            "colorscale": [
             [
              0,
              "#0d0887"
             ],
             [
              0.1111111111111111,
              "#46039f"
             ],
             [
              0.2222222222222222,
              "#7201a8"
             ],
             [
              0.3333333333333333,
              "#9c179e"
             ],
             [
              0.4444444444444444,
              "#bd3786"
             ],
             [
              0.5555555555555556,
              "#d8576b"
             ],
             [
              0.6666666666666666,
              "#ed7953"
             ],
             [
              0.7777777777777778,
              "#fb9f3a"
             ],
             [
              0.8888888888888888,
              "#fdca26"
             ],
             [
              1,
              "#f0f921"
             ]
            ],
            "type": "histogram2dcontour"
           }
          ],
          "mesh3d": [
           {
            "colorbar": {
             "outlinewidth": 0,
             "ticks": ""
            },
            "type": "mesh3d"
           }
          ],
          "parcoords": [
           {
            "line": {
             "colorbar": {
              "outlinewidth": 0,
              "ticks": ""
             }
            },
            "type": "parcoords"
           }
          ],
          "pie": [
           {
            "automargin": true,
            "type": "pie"
           }
          ],
          "scatter": [
           {
            "fillpattern": {
             "fillmode": "overlay",
             "size": 10,
             "solidity": 0.2
            },
            "type": "scatter"
           }
          ],
          "scatter3d": [
           {
            "line": {
             "colorbar": {
              "outlinewidth": 0,
              "ticks": ""
             }
            },
            "marker": {
             "colorbar": {
              "outlinewidth": 0,
              "ticks": ""
             }
            },
            "type": "scatter3d"
           }
          ],
          "scattercarpet": [
           {
            "marker": {
             "colorbar": {
              "outlinewidth": 0,
              "ticks": ""
             }
            },
            "type": "scattercarpet"
           }
          ],
          "scattergeo": [
           {
            "marker": {
             "colorbar": {
              "outlinewidth": 0,
              "ticks": ""
             }
            },
            "type": "scattergeo"
           }
          ],
          "scattergl": [
           {
            "marker": {
             "colorbar": {
              "outlinewidth": 0,
              "ticks": ""
             }
            },
            "type": "scattergl"
           }
          ],
          "scattermapbox": [
           {
            "marker": {
             "colorbar": {
              "outlinewidth": 0,
              "ticks": ""
             }
            },
            "type": "scattermapbox"
           }
          ],
          "scatterpolar": [
           {
            "marker": {
             "colorbar": {
              "outlinewidth": 0,
              "ticks": ""
             }
            },
            "type": "scatterpolar"
           }
          ],
          "scatterpolargl": [
           {
            "marker": {
             "colorbar": {
              "outlinewidth": 0,
              "ticks": ""
             }
            },
            "type": "scatterpolargl"
           }
          ],
          "scatterternary": [
           {
            "marker": {
             "colorbar": {
              "outlinewidth": 0,
              "ticks": ""
             }
            },
            "type": "scatterternary"
           }
          ],
          "surface": [
           {
            "colorbar": {
             "outlinewidth": 0,
             "ticks": ""
            },
            "colorscale": [
             [
              0,
              "#0d0887"
             ],
             [
              0.1111111111111111,
              "#46039f"
             ],
             [
              0.2222222222222222,
              "#7201a8"
             ],
             [
              0.3333333333333333,
              "#9c179e"
             ],
             [
              0.4444444444444444,
              "#bd3786"
             ],
             [
              0.5555555555555556,
              "#d8576b"
             ],
             [
              0.6666666666666666,
              "#ed7953"
             ],
             [
              0.7777777777777778,
              "#fb9f3a"
             ],
             [
              0.8888888888888888,
              "#fdca26"
             ],
             [
              1,
              "#f0f921"
             ]
            ],
            "type": "surface"
           }
          ],
          "table": [
           {
            "cells": {
             "fill": {
              "color": "#EBF0F8"
             },
             "line": {
              "color": "white"
             }
            },
            "header": {
             "fill": {
              "color": "#C8D4E3"
             },
             "line": {
              "color": "white"
             }
            },
            "type": "table"
           }
          ]
         },
         "layout": {
          "annotationdefaults": {
           "arrowcolor": "#2a3f5f",
           "arrowhead": 0,
           "arrowwidth": 1
          },
          "autotypenumbers": "strict",
          "coloraxis": {
           "colorbar": {
            "outlinewidth": 0,
            "ticks": ""
           }
          },
          "colorscale": {
           "diverging": [
            [
             0,
             "#8e0152"
            ],
            [
             0.1,
             "#c51b7d"
            ],
            [
             0.2,
             "#de77ae"
            ],
            [
             0.3,
             "#f1b6da"
            ],
            [
             0.4,
             "#fde0ef"
            ],
            [
             0.5,
             "#f7f7f7"
            ],
            [
             0.6,
             "#e6f5d0"
            ],
            [
             0.7,
             "#b8e186"
            ],
            [
             0.8,
             "#7fbc41"
            ],
            [
             0.9,
             "#4d9221"
            ],
            [
             1,
             "#276419"
            ]
           ],
           "sequential": [
            [
             0,
             "#0d0887"
            ],
            [
             0.1111111111111111,
             "#46039f"
            ],
            [
             0.2222222222222222,
             "#7201a8"
            ],
            [
             0.3333333333333333,
             "#9c179e"
            ],
            [
             0.4444444444444444,
             "#bd3786"
            ],
            [
             0.5555555555555556,
             "#d8576b"
            ],
            [
             0.6666666666666666,
             "#ed7953"
            ],
            [
             0.7777777777777778,
             "#fb9f3a"
            ],
            [
             0.8888888888888888,
             "#fdca26"
            ],
            [
             1,
             "#f0f921"
            ]
           ],
           "sequentialminus": [
            [
             0,
             "#0d0887"
            ],
            [
             0.1111111111111111,
             "#46039f"
            ],
            [
             0.2222222222222222,
             "#7201a8"
            ],
            [
             0.3333333333333333,
             "#9c179e"
            ],
            [
             0.4444444444444444,
             "#bd3786"
            ],
            [
             0.5555555555555556,
             "#d8576b"
            ],
            [
             0.6666666666666666,
             "#ed7953"
            ],
            [
             0.7777777777777778,
             "#fb9f3a"
            ],
            [
             0.8888888888888888,
             "#fdca26"
            ],
            [
             1,
             "#f0f921"
            ]
           ]
          },
          "colorway": [
           "#636efa",
           "#EF553B",
           "#00cc96",
           "#ab63fa",
           "#FFA15A",
           "#19d3f3",
           "#FF6692",
           "#B6E880",
           "#FF97FF",
           "#FECB52"
          ],
          "font": {
           "color": "#2a3f5f"
          },
          "geo": {
           "bgcolor": "white",
           "lakecolor": "white",
           "landcolor": "#E5ECF6",
           "showlakes": true,
           "showland": true,
           "subunitcolor": "white"
          },
          "hoverlabel": {
           "align": "left"
          },
          "hovermode": "closest",
          "mapbox": {
           "style": "light"
          },
          "paper_bgcolor": "white",
          "plot_bgcolor": "#E5ECF6",
          "polar": {
           "angularaxis": {
            "gridcolor": "white",
            "linecolor": "white",
            "ticks": ""
           },
           "bgcolor": "#E5ECF6",
           "radialaxis": {
            "gridcolor": "white",
            "linecolor": "white",
            "ticks": ""
           }
          },
          "scene": {
           "xaxis": {
            "backgroundcolor": "#E5ECF6",
            "gridcolor": "white",
            "gridwidth": 2,
            "linecolor": "white",
            "showbackground": true,
            "ticks": "",
            "zerolinecolor": "white"
           },
           "yaxis": {
            "backgroundcolor": "#E5ECF6",
            "gridcolor": "white",
            "gridwidth": 2,
            "linecolor": "white",
            "showbackground": true,
            "ticks": "",
            "zerolinecolor": "white"
           },
           "zaxis": {
            "backgroundcolor": "#E5ECF6",
            "gridcolor": "white",
            "gridwidth": 2,
            "linecolor": "white",
            "showbackground": true,
            "ticks": "",
            "zerolinecolor": "white"
           }
          },
          "shapedefaults": {
           "line": {
            "color": "#2a3f5f"
           }
          },
          "ternary": {
           "aaxis": {
            "gridcolor": "white",
            "linecolor": "white",
            "ticks": ""
           },
           "baxis": {
            "gridcolor": "white",
            "linecolor": "white",
            "ticks": ""
           },
           "bgcolor": "#E5ECF6",
           "caxis": {
            "gridcolor": "white",
            "linecolor": "white",
            "ticks": ""
           }
          },
          "title": {
           "x": 0.05
          },
          "xaxis": {
           "automargin": true,
           "gridcolor": "white",
           "linecolor": "white",
           "ticks": "",
           "title": {
            "standoff": 15
           },
           "zerolinecolor": "white",
           "zerolinewidth": 2
          },
          "yaxis": {
           "automargin": true,
           "gridcolor": "white",
           "linecolor": "white",
           "ticks": "",
           "title": {
            "standoff": 15
           },
           "zerolinecolor": "white",
           "zerolinewidth": 2
          }
         }
        },
        "title": {
         "text": "Weight Evolution"
        },
        "xaxis": {
         "title": {
          "text": "100"
         }
        },
        "yaxis": {
         "title": {
          "text": "Values"
         }
        }
       }
      },
      "text/html": [
       "<div>                            <div id=\"8ea2fb6e-2c91-41ae-b7bc-8e51b2fe4c92\" class=\"plotly-graph-div\" style=\"height:525px; width:100%;\"></div>            <script type=\"text/javascript\">                require([\"plotly\"], function(Plotly) {                    window.PLOTLYENV=window.PLOTLYENV || {};                                    if (document.getElementById(\"8ea2fb6e-2c91-41ae-b7bc-8e51b2fe4c92\")) {                    Plotly.newPlot(                        \"8ea2fb6e-2c91-41ae-b7bc-8e51b2fe4c92\",                        [{\"mode\":\"lines\",\"name\":\"MA 25\\u002f100\",\"x\":[200,300,400,500,600,700,800,900,1000,1100,1200,1300,1400,1500,1600,1700,1800,1900,2000,2100,2200,2300,2400,2500,2600,2700,2800,2900,3000,3100,3200,3300,3400,3500,3600,3700,3800,3900,4000,4100,4200,4300,4400,4500,4600,4700,4800,4900,5000,5100,5200,5300,5400,5500,5600,5700,5800,5900,6000,6100,6200,6300,6400,6500,6600,6700,6800,6900,7000,7100,7200,7300,7400,7500,7600,7700,7800,7900,8000,8100,8200,8300,8400,8500,8600,8700,8800,8900,9000,9100,9200,9300,9400,9500,9600,9700,9800,9900,10000],\"y\":[0.376403815626698,0.247427014786094,0.2089848904837246,0.2344579743524804,0.2273135255136559,0.1575781300147988,0.200701117399288,0.2656480457059487,0.2102259131075024,0.1987521453232846,0.2214569828667705,0.3129073021897806,0.3084753832485358,0.2469413578648076,0.235752720579717,0.1541420962112838,0.1961447432391294,0.2966954968229746,0.1927149083262182,0.1794586308505003,0.2543797048612616,0.2669570669119243,0.328548086686163,0.3397499119187242,0.3184257841752023,0.3071477375769968,0.3655907476978397,0.4696893566909326,0.4980082431614197,0.5238893832361424,0.3788928502229405,0.4171278733591693,0.3068055168575566,0.2492221243112329,0.3529607807262954,0.3152164368415275,0.4177689815367986,0.388794717564265,0.3040534987272094,0.3548811302578332,0.3586062121055483,0.407124744141831,0.5052454616680799,0.5813973248767174,0.4217363523505466,0.3638364271249903,0.4063206391553704,0.346052913446335,0.4387011833681188,0.5176795597091152,0.3895037447081645,0.5599880053657532,0.6756117812115701,0.6606131462562199,0.7428741229639652,0.7793939044904729,0.7165221858805341,0.7799056153071778,0.7142302217762028,0.7577470321128723,0.6805560746488128,0.6159713909239285,0.7445797960964653,0.717447565759009,0.7384877771238578,0.7752114576965662,0.7624053533450132,0.7543497314012195,0.7959672677118806,0.7609738194093134,0.6671833894231305,0.7343698150398688,0.6494095588358818,0.7824681802997677,0.8067365854894586,0.7038239429022599,0.7713644526820044,0.7540955278037034,0.7026001522310373,0.7151323536579272,0.7514780224316775,0.7846893621283755,0.6495811873243794,0.6439816710316355,0.7079993510929554,0.6656756701551126,0.7436862888995461,0.8188092297209154,0.7500030133234845,0.6973484205374884,0.7643198704482402,0.7032859289844036,0.6828758743296546,0.6477807735118111,0.7181980833152249,0.5741154585753112,0.6971532379809469,0.6983996643444643,0.7826028657247807],\"type\":\"scatter\"},{\"mode\":\"lines\",\"name\":\"MA 25\\u002f70\",\"x\":[200,300,400,500,600,700,800,900,1000,1100,1200,1300,1400,1500,1600,1700,1800,1900,2000,2100,2200,2300,2400,2500,2600,2700,2800,2900,3000,3100,3200,3300,3400,3500,3600,3700,3800,3900,4000,4100,4200,4300,4400,4500,4600,4700,4800,4900,5000,5100,5200,5300,5400,5500,5600,5700,5800,5900,6000,6100,6200,6300,6400,6500,6600,6700,6800,6900,7000,7100,7200,7300,7400,7500,7600,7700,7800,7900,8000,8100,8200,8300,8400,8500,8600,8700,8800,8900,9000,9100,9200,9300,9400,9500,9600,9700,9800,9900,10000],\"y\":[0.0194415288027336,0.0100891355996874,0.0101887819607483,0.0103646495517053,0.0767603625756181,0.0198917134323356,0.1278219909159516,0.0245818290570675,0.0203372730308268,0.0756546553666059,0.0284174351079822,0.0331366998302162,0.1495865034493907,0.0807077762415478,0.0808247706214221,0.0571409341906361,0.140251442023872,0.0714864668043183,0.0101242856502468,0.0147226557934301,0.0578853586164614,0.0974432494512524,0.0825412970670114,0.1486665828391846,0.1320663361175983,0.145105048193179,0.1097485396171314,0.0464870452880856,0.020794147327021,0.0476459476363996,0.057186865953116,0.0283388418085718,0.1155766983117622,0.1069960248558441,0.0166773804620633,0.0324712783228777,0.0841356893456414,0.0234811162778595,0.1360164875767801,0.1271738761747593,0.0923116756155098,0.0565131132956959,0.0880925250775884,0.0338738572058415,0.075748029559216,0.1298857122944117,0.0254384846689902,0.1160025194599677,0.1246708623958997,0.0860021268893671,0.1467788962232752,0.0461395167741486,0.1084076359383112,0.1299753317188784,0.099929048267089,0.0378362528271513,0.0607412097401794,0.0140855650640531,0.0973567103886166,0.0673257749694363,0.1166294864546338,0.1077879072602328,0.0456251450365312,0.0871334876099171,0.0407580899899155,0.0107513802862481,0.0530390377218695,0.0588123706317993,0.0396847958315617,0.0684520711923405,0.1369578396181498,0.1053281748787926,0.0987139479531924,0.0252031791262344,0.0358902471072308,0.1038439969161989,0.0444940756750212,0.0483846377089668,0.1308139002498576,0.1047031590370763,0.0560950486823954,0.009957768277565,0.1486248204803862,0.1120168168474236,0.1251402946179407,0.0993898722411704,0.0338689997832181,0.0255734400799256,0.0533418994790704,0.1187296142713404,0.0102271080166386,0.1304176946648916,0.1386031166553603,0.1300009778281836,0.0995582104314514,0.1485399924225205,0.1247661993737882,0.1292972337129109,0.0625702154188713],\"type\":\"scatter\"},{\"mode\":\"lines\",\"name\":\"RSI 15\",\"x\":[200,300,400,500,600,700,800,900,1000,1100,1200,1300,1400,1500,1600,1700,1800,1900,2000,2100,2200,2300,2400,2500,2600,2700,2800,2900,3000,3100,3200,3300,3400,3500,3600,3700,3800,3900,4000,4100,4200,4300,4400,4500,4600,4700,4800,4900,5000,5100,5200,5300,5400,5500,5600,5700,5800,5900,6000,6100,6200,6300,6400,6500,6600,6700,6800,6900,7000,7100,7200,7300,7400,7500,7600,7700,7800,7900,8000,8100,8200,8300,8400,8500,8600,8700,8800,8900,9000,9100,9200,9300,9400,9500,9600,9700,9800,9900,10000],\"y\":[0.0653963201299076,0.1445789686519048,0.0490333998188423,0.1343854550522113,0.1110810346018015,0.0301310601073056,0.01530250792069,0.1021683697348573,0.0527811990798537,0.1410454484223973,0.0680145304802961,0.0299652296315824,0.031454558826023,0.0669228887915789,0.0234388083236755,0.1058458224750802,0.0109804048521656,0.0611373757629945,0.0987167499974118,0.0641073745943681,0.0324080565474698,0.0276029622127657,0.0680237938755378,0.0723153895597837,0.0982994979902667,0.1488537902363234,0.1055497158824361,0.0095395106146507,0.0098152284553395,0.0303081181890011,0.1075173142080273,0.0961727922145073,0.0440580077784941,0.0844151393324041,0.0892235855158706,0.1240900735331875,0.0393220734218976,0.0570488967813875,0.0683821418918561,0.0958454307003312,0.0513649675613798,0.1466748651878768,0.1128799532929378,0.0589208770408724,0.12326737702006,0.1421895379005715,0.0979780980470175,0.0858029642004754,0.0301522235741641,0.0949541380966225,0.1091337714411707,0.0648596663801849,0.0671079110717919,0.1230861225561796,0.018355336205728,0.1029551972842367,0.1406950690192859,0.133255448948067,0.1045588039500808,0.1354657387730098,0.0717560738897684,0.1379790933410852,0.0727956500955735,0.075012271893351,0.0830700158700162,0.1051266344368371,0.0781429321376866,0.0761272816258512,0.1055447498674184,0.1275520357218354,0.1113358409167295,0.0537922657011992,0.1219523646872236,0.1484297129411214,0.0968385837822381,0.1421047747496151,0.1254070098415537,0.118220955837943,0.0892970094786782,0.0629850932443026,0.146608370726368,0.1443532742287563,0.1034924576523131,0.127073877754952,0.1364335119290232,0.1475038111947406,0.0757585620790801,0.099373934834992,0.1144650021340609,0.1088160778338316,0.0910824953421634,0.1106075429075981,0.1088032175176499,0.1194997233794284,0.1129379821212252,0.1383900420275393,0.0766730532031361,0.0445994140327483,0.0097270682976645],\"type\":\"scatter\"},{\"mode\":\"lines\",\"name\":\"RSI 30\",\"x\":[200,300,400,500,600,700,800,900,1000,1100,1200,1300,1400,1500,1600,1700,1800,1900,2000,2100,2200,2300,2400,2500,2600,2700,2800,2900,3000,3100,3200,3300,3400,3500,3600,3700,3800,3900,4000,4100,4200,4300,4400,4500,4600,4700,4800,4900,5000,5100,5200,5300,5400,5500,5600,5700,5800,5900,6000,6100,6200,6300,6400,6500,6600,6700,6800,6900,7000,7100,7200,7300,7400,7500,7600,7700,7800,7900,8000,8100,8200,8300,8400,8500,8600,8700,8800,8900,9000,9100,9200,9300,9400,9500,9600,9700,9800,9900,10000],\"y\":[0.5387583354406608,0.5979048809623134,0.7317929277366846,0.6207919210436029,0.5848450773089243,0.7923990964455598,0.6561743837640702,0.6076017555021264,0.716655614781817,0.584547750887712,0.6821110515449511,0.6239907683484207,0.5104835544760504,0.6054279771020656,0.6599837004751854,0.6828711471229997,0.6526234098848329,0.5706806606097126,0.6984440560261229,0.7417113387617014,0.655326879974807,0.6079967214240575,0.5208868223712878,0.4392681156823075,0.4512083817169326,0.3988934239935007,0.4191109968025926,0.4742840874063309,0.4713823810562196,0.3981565509384568,0.4564029696159161,0.4583604926177515,0.5335597770521868,0.5593667115005189,0.5411382532957704,0.5282222113024072,0.4587732556956622,0.5306752693764879,0.4915478718041542,0.4220995628670763,0.497717144717562,0.3896872773745961,0.2937820599613938,0.3258079408765686,0.3792482410701773,0.3640883226800263,0.4702627781286218,0.4521416028932217,0.4064757306618171,0.3013641753048952,0.3545835876273895,0.3290128114799133,0.1488726717783267,0.0863253994687221,0.1388414925632177,0.079814645398139,0.0820415353600005,0.0727533706807019,0.0838542638850997,0.0394614541446814,0.1310583650067848,0.1382616084747533,0.1369994087714298,0.1204066747377226,0.1376841170162105,0.1089105275803485,0.1064126767954305,0.1107106163411299,0.0588031865891391,0.0430220736765106,0.0845229300419901,0.1065097443801393,0.1299241285237022,0.0438989276328764,0.0605345836210723,0.0502272854319259,0.0587344618014206,0.0792988786493867,0.0772889380404268,0.117179394060694,0.045818558159559,0.0609995953653032,0.0983015345429213,0.1169276343659889,0.0304268423600808,0.0874306464089762,0.1466861492381555,0.056243395364167,0.0821900850633839,0.0751058873573396,0.1343705261929576,0.0556888334431068,0.069717791497335,0.1027185252805768,0.0693057241320983,0.1389545069746288,0.1014075094421288,0.1277036879098765,0.1450998505586835],\"type\":\"scatter\"}],                        {\"template\":{\"data\":{\"histogram2dcontour\":[{\"type\":\"histogram2dcontour\",\"colorbar\":{\"outlinewidth\":0,\"ticks\":\"\"},\"colorscale\":[[0.0,\"#0d0887\"],[0.1111111111111111,\"#46039f\"],[0.2222222222222222,\"#7201a8\"],[0.3333333333333333,\"#9c179e\"],[0.4444444444444444,\"#bd3786\"],[0.5555555555555556,\"#d8576b\"],[0.6666666666666666,\"#ed7953\"],[0.7777777777777778,\"#fb9f3a\"],[0.8888888888888888,\"#fdca26\"],[1.0,\"#f0f921\"]]}],\"choropleth\":[{\"type\":\"choropleth\",\"colorbar\":{\"outlinewidth\":0,\"ticks\":\"\"}}],\"histogram2d\":[{\"type\":\"histogram2d\",\"colorbar\":{\"outlinewidth\":0,\"ticks\":\"\"},\"colorscale\":[[0.0,\"#0d0887\"],[0.1111111111111111,\"#46039f\"],[0.2222222222222222,\"#7201a8\"],[0.3333333333333333,\"#9c179e\"],[0.4444444444444444,\"#bd3786\"],[0.5555555555555556,\"#d8576b\"],[0.6666666666666666,\"#ed7953\"],[0.7777777777777778,\"#fb9f3a\"],[0.8888888888888888,\"#fdca26\"],[1.0,\"#f0f921\"]]}],\"heatmap\":[{\"type\":\"heatmap\",\"colorbar\":{\"outlinewidth\":0,\"ticks\":\"\"},\"colorscale\":[[0.0,\"#0d0887\"],[0.1111111111111111,\"#46039f\"],[0.2222222222222222,\"#7201a8\"],[0.3333333333333333,\"#9c179e\"],[0.4444444444444444,\"#bd3786\"],[0.5555555555555556,\"#d8576b\"],[0.6666666666666666,\"#ed7953\"],[0.7777777777777778,\"#fb9f3a\"],[0.8888888888888888,\"#fdca26\"],[1.0,\"#f0f921\"]]}],\"heatmapgl\":[{\"type\":\"heatmapgl\",\"colorbar\":{\"outlinewidth\":0,\"ticks\":\"\"},\"colorscale\":[[0.0,\"#0d0887\"],[0.1111111111111111,\"#46039f\"],[0.2222222222222222,\"#7201a8\"],[0.3333333333333333,\"#9c179e\"],[0.4444444444444444,\"#bd3786\"],[0.5555555555555556,\"#d8576b\"],[0.6666666666666666,\"#ed7953\"],[0.7777777777777778,\"#fb9f3a\"],[0.8888888888888888,\"#fdca26\"],[1.0,\"#f0f921\"]]}],\"contourcarpet\":[{\"type\":\"contourcarpet\",\"colorbar\":{\"outlinewidth\":0,\"ticks\":\"\"}}],\"contour\":[{\"type\":\"contour\",\"colorbar\":{\"outlinewidth\":0,\"ticks\":\"\"},\"colorscale\":[[0.0,\"#0d0887\"],[0.1111111111111111,\"#46039f\"],[0.2222222222222222,\"#7201a8\"],[0.3333333333333333,\"#9c179e\"],[0.4444444444444444,\"#bd3786\"],[0.5555555555555556,\"#d8576b\"],[0.6666666666666666,\"#ed7953\"],[0.7777777777777778,\"#fb9f3a\"],[0.8888888888888888,\"#fdca26\"],[1.0,\"#f0f921\"]]}],\"surface\":[{\"type\":\"surface\",\"colorbar\":{\"outlinewidth\":0,\"ticks\":\"\"},\"colorscale\":[[0.0,\"#0d0887\"],[0.1111111111111111,\"#46039f\"],[0.2222222222222222,\"#7201a8\"],[0.3333333333333333,\"#9c179e\"],[0.4444444444444444,\"#bd3786\"],[0.5555555555555556,\"#d8576b\"],[0.6666666666666666,\"#ed7953\"],[0.7777777777777778,\"#fb9f3a\"],[0.8888888888888888,\"#fdca26\"],[1.0,\"#f0f921\"]]}],\"mesh3d\":[{\"type\":\"mesh3d\",\"colorbar\":{\"outlinewidth\":0,\"ticks\":\"\"}}],\"scatter\":[{\"fillpattern\":{\"fillmode\":\"overlay\",\"size\":10,\"solidity\":0.2},\"type\":\"scatter\"}],\"parcoords\":[{\"type\":\"parcoords\",\"line\":{\"colorbar\":{\"outlinewidth\":0,\"ticks\":\"\"}}}],\"scatterpolargl\":[{\"type\":\"scatterpolargl\",\"marker\":{\"colorbar\":{\"outlinewidth\":0,\"ticks\":\"\"}}}],\"bar\":[{\"error_x\":{\"color\":\"#2a3f5f\"},\"error_y\":{\"color\":\"#2a3f5f\"},\"marker\":{\"line\":{\"color\":\"#E5ECF6\",\"width\":0.5},\"pattern\":{\"fillmode\":\"overlay\",\"size\":10,\"solidity\":0.2}},\"type\":\"bar\"}],\"scattergeo\":[{\"type\":\"scattergeo\",\"marker\":{\"colorbar\":{\"outlinewidth\":0,\"ticks\":\"\"}}}],\"scatterpolar\":[{\"type\":\"scatterpolar\",\"marker\":{\"colorbar\":{\"outlinewidth\":0,\"ticks\":\"\"}}}],\"histogram\":[{\"marker\":{\"pattern\":{\"fillmode\":\"overlay\",\"size\":10,\"solidity\":0.2}},\"type\":\"histogram\"}],\"scattergl\":[{\"type\":\"scattergl\",\"marker\":{\"colorbar\":{\"outlinewidth\":0,\"ticks\":\"\"}}}],\"scatter3d\":[{\"type\":\"scatter3d\",\"line\":{\"colorbar\":{\"outlinewidth\":0,\"ticks\":\"\"}},\"marker\":{\"colorbar\":{\"outlinewidth\":0,\"ticks\":\"\"}}}],\"scattermapbox\":[{\"type\":\"scattermapbox\",\"marker\":{\"colorbar\":{\"outlinewidth\":0,\"ticks\":\"\"}}}],\"scatterternary\":[{\"type\":\"scatterternary\",\"marker\":{\"colorbar\":{\"outlinewidth\":0,\"ticks\":\"\"}}}],\"scattercarpet\":[{\"type\":\"scattercarpet\",\"marker\":{\"colorbar\":{\"outlinewidth\":0,\"ticks\":\"\"}}}],\"carpet\":[{\"aaxis\":{\"endlinecolor\":\"#2a3f5f\",\"gridcolor\":\"white\",\"linecolor\":\"white\",\"minorgridcolor\":\"white\",\"startlinecolor\":\"#2a3f5f\"},\"baxis\":{\"endlinecolor\":\"#2a3f5f\",\"gridcolor\":\"white\",\"linecolor\":\"white\",\"minorgridcolor\":\"white\",\"startlinecolor\":\"#2a3f5f\"},\"type\":\"carpet\"}],\"table\":[{\"cells\":{\"fill\":{\"color\":\"#EBF0F8\"},\"line\":{\"color\":\"white\"}},\"header\":{\"fill\":{\"color\":\"#C8D4E3\"},\"line\":{\"color\":\"white\"}},\"type\":\"table\"}],\"barpolar\":[{\"marker\":{\"line\":{\"color\":\"#E5ECF6\",\"width\":0.5},\"pattern\":{\"fillmode\":\"overlay\",\"size\":10,\"solidity\":0.2}},\"type\":\"barpolar\"}],\"pie\":[{\"automargin\":true,\"type\":\"pie\"}]},\"layout\":{\"autotypenumbers\":\"strict\",\"colorway\":[\"#636efa\",\"#EF553B\",\"#00cc96\",\"#ab63fa\",\"#FFA15A\",\"#19d3f3\",\"#FF6692\",\"#B6E880\",\"#FF97FF\",\"#FECB52\"],\"font\":{\"color\":\"#2a3f5f\"},\"hovermode\":\"closest\",\"hoverlabel\":{\"align\":\"left\"},\"paper_bgcolor\":\"white\",\"plot_bgcolor\":\"#E5ECF6\",\"polar\":{\"bgcolor\":\"#E5ECF6\",\"angularaxis\":{\"gridcolor\":\"white\",\"linecolor\":\"white\",\"ticks\":\"\"},\"radialaxis\":{\"gridcolor\":\"white\",\"linecolor\":\"white\",\"ticks\":\"\"}},\"ternary\":{\"bgcolor\":\"#E5ECF6\",\"aaxis\":{\"gridcolor\":\"white\",\"linecolor\":\"white\",\"ticks\":\"\"},\"baxis\":{\"gridcolor\":\"white\",\"linecolor\":\"white\",\"ticks\":\"\"},\"caxis\":{\"gridcolor\":\"white\",\"linecolor\":\"white\",\"ticks\":\"\"}},\"coloraxis\":{\"colorbar\":{\"outlinewidth\":0,\"ticks\":\"\"}},\"colorscale\":{\"sequential\":[[0.0,\"#0d0887\"],[0.1111111111111111,\"#46039f\"],[0.2222222222222222,\"#7201a8\"],[0.3333333333333333,\"#9c179e\"],[0.4444444444444444,\"#bd3786\"],[0.5555555555555556,\"#d8576b\"],[0.6666666666666666,\"#ed7953\"],[0.7777777777777778,\"#fb9f3a\"],[0.8888888888888888,\"#fdca26\"],[1.0,\"#f0f921\"]],\"sequentialminus\":[[0.0,\"#0d0887\"],[0.1111111111111111,\"#46039f\"],[0.2222222222222222,\"#7201a8\"],[0.3333333333333333,\"#9c179e\"],[0.4444444444444444,\"#bd3786\"],[0.5555555555555556,\"#d8576b\"],[0.6666666666666666,\"#ed7953\"],[0.7777777777777778,\"#fb9f3a\"],[0.8888888888888888,\"#fdca26\"],[1.0,\"#f0f921\"]],\"diverging\":[[0,\"#8e0152\"],[0.1,\"#c51b7d\"],[0.2,\"#de77ae\"],[0.3,\"#f1b6da\"],[0.4,\"#fde0ef\"],[0.5,\"#f7f7f7\"],[0.6,\"#e6f5d0\"],[0.7,\"#b8e186\"],[0.8,\"#7fbc41\"],[0.9,\"#4d9221\"],[1,\"#276419\"]]},\"xaxis\":{\"gridcolor\":\"white\",\"linecolor\":\"white\",\"ticks\":\"\",\"title\":{\"standoff\":15},\"zerolinecolor\":\"white\",\"automargin\":true,\"zerolinewidth\":2},\"yaxis\":{\"gridcolor\":\"white\",\"linecolor\":\"white\",\"ticks\":\"\",\"title\":{\"standoff\":15},\"zerolinecolor\":\"white\",\"automargin\":true,\"zerolinewidth\":2},\"scene\":{\"xaxis\":{\"backgroundcolor\":\"#E5ECF6\",\"gridcolor\":\"white\",\"linecolor\":\"white\",\"showbackground\":true,\"ticks\":\"\",\"zerolinecolor\":\"white\",\"gridwidth\":2},\"yaxis\":{\"backgroundcolor\":\"#E5ECF6\",\"gridcolor\":\"white\",\"linecolor\":\"white\",\"showbackground\":true,\"ticks\":\"\",\"zerolinecolor\":\"white\",\"gridwidth\":2},\"zaxis\":{\"backgroundcolor\":\"#E5ECF6\",\"gridcolor\":\"white\",\"linecolor\":\"white\",\"showbackground\":true,\"ticks\":\"\",\"zerolinecolor\":\"white\",\"gridwidth\":2}},\"shapedefaults\":{\"line\":{\"color\":\"#2a3f5f\"}},\"annotationdefaults\":{\"arrowcolor\":\"#2a3f5f\",\"arrowhead\":0,\"arrowwidth\":1},\"geo\":{\"bgcolor\":\"white\",\"landcolor\":\"#E5ECF6\",\"subunitcolor\":\"white\",\"showland\":true,\"showlakes\":true,\"lakecolor\":\"white\"},\"title\":{\"x\":0.05},\"mapbox\":{\"style\":\"light\"}}},\"title\":{\"text\":\"Weight Evolution\"},\"xaxis\":{\"title\":{\"text\":\"100\"}},\"yaxis\":{\"title\":{\"text\":\"Values\"}},\"legend\":{\"title\":{\"text\":\"Signals\"}}},                        {\"responsive\": true}                    ).then(function(){\n",
       "                            \n",
       "var gd = document.getElementById('8ea2fb6e-2c91-41ae-b7bc-8e51b2fe4c92');\n",
       "var x = new MutationObserver(function (mutations, observer) {{\n",
       "        var display = window.getComputedStyle(gd).display;\n",
       "        if (!display || display === 'none') {{\n",
       "            console.log([gd, 'removed!']);\n",
       "            Plotly.purge(gd);\n",
       "            observer.disconnect();\n",
       "        }}\n",
       "}});\n",
       "\n",
       "// Listen for the removal of the full notebook cells\n",
       "var notebookContainer = gd.closest('#notebook-container');\n",
       "if (notebookContainer) {{\n",
       "    x.observe(notebookContainer, {childList: true});\n",
       "}}\n",
       "\n",
       "// Listen for the clearing of the current output cell\n",
       "var outputEl = gd.closest('.output');\n",
       "if (outputEl) {{\n",
       "    x.observe(outputEl, {childList: true});\n",
       "}}\n",
       "\n",
       "                        })                };                });            </script>        </div>"
      ]
     },
     "metadata": {},
     "output_type": "display_data"
    }
   ],
   "source": [
    "x_column = simulation_results.columns[0]\n",
    "y1_column = simulation_results.columns[2]\n",
    "y2_column = simulation_results.columns[3]\n",
    "y3_column = simulation_results.columns[4]\n",
    "y4_column = simulation_results.columns[5]\n",
    "\n",
    "# Create the figure\n",
    "fig = go.Figure()\n",
    "\n",
    "# Add the first line trace\n",
    "fig.add_trace(go.Scatter(\n",
    "    x=simulation_results[x_column],\n",
    "    y=simulation_results[y1_column],\n",
    "    mode='lines',\n",
    "    name='MA 25/100'  # Custom legend name for the first line\n",
    "))\n",
    "\n",
    "# Add the second line trace\n",
    "fig.add_trace(go.Scatter(\n",
    "    x=simulation_results[x_column],\n",
    "    y=simulation_results[y2_column],\n",
    "    mode='lines',\n",
    "    name='MA 25/70'  # Custom legend name for the second line\n",
    "))\n",
    "\n",
    "fig.add_trace(go.Scatter(\n",
    "    x=simulation_results[x_column],\n",
    "    y=simulation_results[y3_column],\n",
    "    mode='lines',\n",
    "    name='RSI 15'  # Custom legend name for the second line\n",
    "))\n",
    "\n",
    "fig.add_trace(go.Scatter(\n",
    "    x=simulation_results[x_column],\n",
    "    y=simulation_results[y4_column],\n",
    "    mode='lines',\n",
    "    name='RSI 30'  # Custom legend name for the second line\n",
    "))\n",
    "\n",
    "\n",
    "# Update layout to add titles and adjust the legend\n",
    "fig.update_layout(\n",
    "    title='Weight Evolution',\n",
    "    xaxis_title=x_column,\n",
    "    yaxis_title='Values',\n",
    "    legend_title='Signals'\n",
    ")\n",
    "\n",
    "fig.show()"
   ]
  },
  {
   "cell_type": "code",
   "execution_count": null,
   "metadata": {},
   "outputs": [],
   "source": []
  }
 ],
 "metadata": {
  "kernelspec": {
   "display_name": "Python 3 (ipykernel)",
   "language": "python",
   "name": "python3"
  },
  "language_info": {
   "codemirror_mode": {
    "name": "ipython",
    "version": 3
   },
   "file_extension": ".py",
   "mimetype": "text/x-python",
   "name": "python",
   "nbconvert_exporter": "python",
   "pygments_lexer": "ipython3",
   "version": "3.12.4"
  }
 },
 "nbformat": 4,
 "nbformat_minor": 2
}
