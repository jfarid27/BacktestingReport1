{
 "cells": [
  {
   "cell_type": "code",
   "execution_count": 1,
   "id": "9c1a115b-520a-4571-8fb5-d9e0141a3158",
   "metadata": {},
   "outputs": [],
   "source": [
    "from Backtest.models.MomentumAnalysis import MomentumAnalysis\n",
    "from Backtest.models.MeanReversionAnalysis import MeanReversionAnalysis\n",
    "from Backtest.models.PairTradeAnalysis import PairTradeAnalysis\n",
    "import vectorbt as vbt\n",
    "import numpy as np"
   ]
  },
  {
   "cell_type": "markdown",
   "id": "d8ef0735",
   "metadata": {},
   "source": [
    "# Backtests\n",
    "\n",
    "## Long Only Momentum\n",
    "\n",
    "For this analysis, the Momentum Analysis library is used Backtest module. The library uses pre-configured crossover strategies with a short signal of 10 day,\n",
    "and long signal of 50 day, where if the 10 day crosses above 50 day, the strategy goes long, and vice versa for moving below."
   ]
  },
  {
   "cell_type": "code",
   "execution_count": 2,
   "id": "ae7df64f-765d-45a4-87f6-bcc25707af82",
   "metadata": {},
   "outputs": [],
   "source": [
    "btc_price = vbt.YFData.download(\"BTC-USD\", start=\"2022-01\", end=\"2024-07\").get(\"Close\")"
   ]
  },
  {
   "cell_type": "code",
   "execution_count": 3,
   "id": "c6245f04",
   "metadata": {},
   "outputs": [],
   "source": [
    "multi_btc_prices, btc_splits = btc_price.dropna().vbt.range_split(n=5, range_len=360)"
   ]
  },
  {
   "cell_type": "code",
   "execution_count": 4,
   "id": "91969cd9",
   "metadata": {},
   "outputs": [],
   "source": [
    "momentum_long_analyses = []\n",
    "for split in btc_splits:\n",
    "    analysis = MomentumAnalysis(btc_price[split])\n",
    "    analysis.MomentumBasedLongOnly()\n",
    "    momentum_long_analyses.append(analysis)"
   ]
  },
  {
   "cell_type": "code",
   "execution_count": 5,
   "id": "9bac3408",
   "metadata": {},
   "outputs": [],
   "source": [
    "momentum_long_sharpes = [analysis.portfolio.sharpe_ratio() for analyis in momentum_long_analyses]"
   ]
  },
  {
   "cell_type": "markdown",
   "id": "4adfd81e",
   "metadata": {},
   "source": [
    "## Long-Short Momentum"
   ]
  },
  {
   "cell_type": "code",
   "execution_count": 6,
   "id": "5c3fa69b",
   "metadata": {},
   "outputs": [],
   "source": [
    "momentum_ls_analyses = []\n",
    "for split in btc_splits:\n",
    "    analysis = MomentumAnalysis(btc_price[split])\n",
    "    analysis.MomentumBasedLongShort()\n",
    "    momentum_ls_analyses.append(analysis)"
   ]
  },
  {
   "cell_type": "code",
   "execution_count": 7,
   "id": "0c7a583e",
   "metadata": {},
   "outputs": [],
   "source": [
    "momentum_ls_sharpes = [analysis.portfolio.sharpe_ratio() for analyis in momentum_ls_analyses]"
   ]
  },
  {
   "cell_type": "markdown",
   "id": "1ea702d6",
   "metadata": {},
   "source": [
    "## Mean Reversion"
   ]
  },
  {
   "cell_type": "code",
   "execution_count": 8,
   "id": "d543bf02",
   "metadata": {},
   "outputs": [],
   "source": [
    "mr_analyses = []\n",
    "for split in btc_splits:\n",
    "    analysis = MeanReversionAnalysis(btc_price[split])\n",
    "    analysis.MeanReversionBasedLongOnly()\n",
    "    mr_analyses.append(analysis)"
   ]
  },
  {
   "cell_type": "code",
   "execution_count": 9,
   "id": "bca34e8c",
   "metadata": {},
   "outputs": [],
   "source": [
    "mr_long_sharpes = [analysis.portfolio.sharpe_ratio() for analyis in mr_analyses]"
   ]
  },
  {
   "cell_type": "markdown",
   "id": "cd23f6a3",
   "metadata": {},
   "source": []
  },
  {
   "cell_type": "markdown",
   "id": "e7fe982f",
   "metadata": {},
   "source": [
    "## Pair Trade Analysis"
   ]
  },
  {
   "cell_type": "code",
   "execution_count": 10,
   "id": "965e78bd",
   "metadata": {},
   "outputs": [],
   "source": [
    "pair_analysis = PairTradeAnalysis(btc_price)"
   ]
  },
  {
   "cell_type": "markdown",
   "id": "45e1df0e",
   "metadata": {},
   "source": []
  }
 ],
 "metadata": {
  "kernelspec": {
   "display_name": "Python 3 (ipykernel)",
   "language": "python",
   "name": "python3"
  },
  "language_info": {
   "codemirror_mode": {
    "name": "ipython",
    "version": 3
   },
   "file_extension": ".py",
   "mimetype": "text/x-python",
   "name": "python",
   "nbconvert_exporter": "python",
   "pygments_lexer": "ipython3",
   "version": "3.12.4"
  }
 },
 "nbformat": 4,
 "nbformat_minor": 5
}
